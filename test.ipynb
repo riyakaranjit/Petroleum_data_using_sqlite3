{
 "cells": [
  {
   "cell_type": "code",
   "execution_count": 1,
   "metadata": {
    "ExecuteTime": {
     "end_time": "2021-10-07T06:16:07.250982Z",
     "start_time": "2021-10-07T06:16:07.047924Z"
    }
   },
   "outputs": [],
   "source": [
    "import sqlite3\n",
    "import requests\n",
    "import logging\n",
    "\n",
    "from itertools import chain, islice\n",
    "from collections import defaultdict\n"
   ]
  },
  {
   "cell_type": "code",
   "execution_count": 2,
   "metadata": {
    "ExecuteTime": {
     "end_time": "2021-10-07T06:16:08.845576Z",
     "start_time": "2021-10-07T06:16:08.839619Z"
    }
   },
   "outputs": [],
   "source": [
    "sqlite_path = 'test.db'\n",
    "con = sqlite3.connect(sqlite_path)\n",
    "cursor = con.cursor()\n",
    "logging.basicConfig(level= logging.DEBUG)\n"
   ]
  },
  {
   "cell_type": "code",
   "execution_count": 3,
   "metadata": {
    "ExecuteTime": {
     "end_time": "2021-10-07T06:16:11.055521Z",
     "start_time": "2021-10-07T06:16:11.024095Z"
    }
   },
   "outputs": [
    {
     "name": "stderr",
     "output_type": "stream",
     "text": [
      "DEBUG:root:Create Tables\n",
      "DEBUG:root:Table creation complete!\n"
     ]
    }
   ],
   "source": [
    "def _create_tables():\n",
    "    logging.debug(\"Create Tables\")\n",
    "    country_table=\"\"\"\n",
    "    CREATE TABLE IF NOT EXISTS country(\n",
    "    id integer PRIMARY KEY AUTOINCREMENT,\n",
    "    country text\n",
    "    )\n",
    "    \"\"\"\n",
    "    product_table =\"\"\"\n",
    "    CREATE TABLE IF NOT EXISTS petroleum_product(\n",
    "    id integer PRIMARY KEY AUTOINCREMENT,\n",
    "    product_name text\n",
    "    )\n",
    "    \"\"\"\n",
    "    petroleum_sales=\"\"\"\n",
    "    CREATE TABLE IF NOT EXISTS petroleum_sales(\n",
    "    id serial PRIMARY KEY ,\n",
    "    country_id,\n",
    "    product_id,\n",
    "    year interger,\n",
    "    sales float,\n",
    "    FOREIGN KEY(country_id) REFERENCES country(id),\n",
    "    FOREIGN KEY(product_id) REFERENCES petroleum_product(id)\n",
    "    )\n",
    "    \"\"\"\n",
    "    cursor.execute(country_table)\n",
    "    cursor.execute(product_table)\n",
    "    cursor.execute(petroleum_sales)\n",
    "    \n",
    "    con.commit()\n",
    "    logging.debug(\"Table creation complete!\")\n",
    "\n",
    "_create_tables()"
   ]
  },
  {
   "cell_type": "code",
   "execution_count": 4,
   "metadata": {
    "ExecuteTime": {
     "end_time": "2021-10-07T06:16:13.629864Z",
     "start_time": "2021-10-07T06:16:13.423040Z"
    }
   },
   "outputs": [
    {
     "name": "stderr",
     "output_type": "stream",
     "text": [
      "DEBUG:urllib3.connectionpool:Starting new HTTPS connection (1): raw.githubusercontent.com:443\n",
      "DEBUG:urllib3.connectionpool:https://raw.githubusercontent.com:443 \"GET /younginnovations/internship-challenges/master/programming/petroleum-report/data.json HTTP/1.1\" 200 1848\n"
     ]
    }
   ],
   "source": [
    "#Loading the data to the database\n",
    "url=\"https://raw.githubusercontent.com/younginnovations/internship-challenges/master/programming/petroleum-report/data.json\"\n",
    "\n",
    "def _get_data(url):\n",
    "    raw_data = requests.get(url)\n",
    "    return raw_data.json()\n",
    "\n",
    "raw_dict = _get_data(url)"
   ]
  },
  {
   "cell_type": "code",
   "execution_count": 109,
   "metadata": {
    "ExecuteTime": {
     "end_time": "2021-10-07T05:46:47.926322Z",
     "start_time": "2021-10-07T05:46:47.922751Z"
    }
   },
   "outputs": [],
   "source": [
    "# cursor.execute(\"drop table if exists country\")\n",
    "# cursor.execute(\"drop table if exists petroleum_product\")"
   ]
  },
  {
   "cell_type": "code",
   "execution_count": 115,
   "metadata": {
    "ExecuteTime": {
     "end_time": "2021-10-07T05:47:31.296917Z",
     "start_time": "2021-10-07T05:47:31.292157Z"
    }
   },
   "outputs": [
    {
     "name": "stdout",
     "output_type": "stream",
     "text": [
      "[('Russia',), ('USA',), ('Saudi Arabia',), ('Isereal',)]\n"
     ]
    }
   ],
   "source": [
    "# country_names = set([(x['country'],) for x in raw_dict]) #to insert we need list of tuples\n",
    "# print(list(country_names))"
   ]
  },
  {
   "cell_type": "code",
   "execution_count": 5,
   "metadata": {
    "ExecuteTime": {
     "end_time": "2021-10-07T06:16:18.486324Z",
     "start_time": "2021-10-07T06:16:18.475223Z"
    }
   },
   "outputs": [],
   "source": [
    "def _populate_country_table(raw_dict): \n",
    "    country_names = set([(x['country'],) for x in raw_dict]) #if tuple with length=1, we need comma \n",
    "\n",
    "    cursor.executemany(\"INSERT INTO COUNTRY(country) VALUES (?)\",list(country_names))\n",
    "    cursor.execute(\"SELECT * FROM country\")\n",
    "\n",
    "    country_with_ids = cursor.fetchall() #returns all the rows as a list of tuples\n",
    "\n",
    "    return {x[1]: x[0] for x in country_with_ids} #returns all rows as a dictionary\n",
    "\n",
    "country_with_id = _populate_country_table(raw_dict)\n"
   ]
  },
  {
   "cell_type": "code",
   "execution_count": 6,
   "metadata": {
    "ExecuteTime": {
     "end_time": "2021-10-07T06:16:20.503941Z",
     "start_time": "2021-10-07T06:16:20.498480Z"
    }
   },
   "outputs": [
    {
     "name": "stdout",
     "output_type": "stream",
     "text": [
      "{'USA': 1, 'Russia': 2, 'Saudi Arabia': 3, 'Isereal': 4}\n"
     ]
    }
   ],
   "source": [
    "print(country_with_id)"
   ]
  },
  {
   "cell_type": "code",
   "execution_count": 7,
   "metadata": {
    "ExecuteTime": {
     "end_time": "2021-10-07T06:16:35.504628Z",
     "start_time": "2021-10-07T06:16:35.497277Z"
    }
   },
   "outputs": [],
   "source": [
    "def _populate_petroleum_products(raw_dict):\n",
    "    product_name = set([(x['petroleum_product'],) for x in raw_dict])\n",
    "    cursor.executemany(\"INSERT INTO petroleum_product(product_name) VALUES(?)\",list(product_name))\n",
    "    cursor.execute(\"SELECT * FROM petroleum_product\")\n",
    "    petroleum_products_with_ids = cursor.fetchall()\n",
    "    #print(petroleum_products_with_ids)\n",
    "    return {x[1]:x[0] for x in petroleum_products_with_ids}\n",
    "\n",
    "product_name_with_id= _populate_petroleum_products(raw_dict)\n"
   ]
  },
  {
   "cell_type": "code",
   "execution_count": 8,
   "metadata": {
    "ExecuteTime": {
     "end_time": "2021-10-07T06:16:39.644615Z",
     "start_time": "2021-10-07T06:16:39.639251Z"
    }
   },
   "outputs": [
    {
     "name": "stdout",
     "output_type": "stream",
     "text": [
      "{'Light Diesel Oil': 1, 'Petrol': 2, 'Diesel': 3, 'Kerosene': 4, 'LPG in MT': 5, 'Aviation Turbine Fuel': 6, 'Furnace Oil': 7, 'Mineral Turpentine Oil': 8}\n"
     ]
    }
   ],
   "source": [
    "print(product_name_with_id)"
   ]
  },
  {
   "cell_type": "code",
   "execution_count": 114,
   "metadata": {
    "ExecuteTime": {
     "end_time": "2021-10-07T05:47:14.744312Z",
     "start_time": "2021-10-07T05:47:14.733155Z"
    }
   },
   "outputs": [
    {
     "name": "stdout",
     "output_type": "stream",
     "text": [
      "[{'year': '2014', 'petroleum_product': 'Petrol', 'sale': 283567, 'country': 'Saudi Arabia'}, {'year': '2014', 'petroleum_product': 'Diesel', 'sale': 901393, 'country': 'Saudi Arabia'}, {'year': '2014', 'petroleum_product': 'Kerosene', 'sale': 18628, 'country': 'Saudi Arabia'}, {'year': '2014', 'petroleum_product': 'Aviation Turbine Fuel', 'sale': 139404, 'country': 'Saudi Arabia'}, {'year': '2014', 'petroleum_product': 'Light Diesel Oil', 'sale': 0, 'country': 'Saudi Arabia'}, {'year': '2014', 'petroleum_product': 'Furnace Oil', 'sale': 0, 'country': 'Saudi Arabia'}, {'year': '2014', 'petroleum_product': 'LPG in MT', 'sale': 258299, 'country': 'Saudi Arabia'}, {'year': '2014', 'petroleum_product': 'Mineral Turpentine Oil', 'sale': 0, 'country': 'Saudi Arabia'}, {'year': '2014', 'petroleum_product': 'Petrol', 'sale': 183567, 'country': 'Isereal'}, {'year': '2014', 'petroleum_product': 'Diesel', 'sale': 201393, 'country': 'Isereal'}, {'year': '2014', 'petroleum_product': 'Kerosene', 'sale': 38628, 'country': 'Isereal'}, {'year': '2014', 'petroleum_product': 'Aviation Turbine Fuel', 'sale': 0, 'country': 'Isereal'}, {'year': '2014', 'petroleum_product': 'Light Diesel Oil', 'sale': 144677, 'country': 'Isereal'}, {'year': '2014', 'petroleum_product': 'Furnace Oil', 'sale': 443673, 'country': 'Isereal'}, {'year': '2014', 'petroleum_product': 'LPG in MT', 'sale': 0, 'country': 'Isereal'}, {'year': '2014', 'petroleum_product': 'Mineral Turpentine Oil', 'sale': 0, 'country': 'Isereal'}, {'year': '2014', 'petroleum_product': 'Petrol', 'sale': 483567, 'country': 'USA'}, {'year': '2014', 'petroleum_product': 'Diesel', 'sale': 101393, 'country': 'USA'}, {'year': '2014', 'petroleum_product': 'Kerosene', 'sale': 0, 'country': 'USA'}, {'year': '2014', 'petroleum_product': 'Aviation Turbine Fuel', 'sale': 12628, 'country': 'USA'}, {'year': '2014', 'petroleum_product': 'Light Diesel Oil', 'sale': 144657, 'country': 'USA'}, {'year': '2014', 'petroleum_product': 'Furnace Oil', 'sale': 0, 'country': 'USA'}, {'year': '2014', 'petroleum_product': 'LPG in MT', 'sale': 143273, 'country': 'USA'}, {'year': '2014', 'petroleum_product': 'Mineral Turpentine Oil', 'sale': 0, 'country': 'USA'}, {'year': '2014', 'petroleum_product': 'Petrol', 'sale': 0, 'country': 'Russia'}, {'year': '2014', 'petroleum_product': 'Diesel', 'sale': 151393, 'country': 'Russia'}, {'year': '2014', 'petroleum_product': 'Kerosene', 'sale': 454393, 'country': 'Russia'}, {'year': '2014', 'petroleum_product': 'Aviation Turbine Fuel', 'sale': 32628, 'country': 'Russia'}, {'year': '2014', 'petroleum_product': 'Light Diesel Oil', 'sale': 0, 'country': 'Russia'}, {'year': '2014', 'petroleum_product': 'Furnace Oil', 'sale': 0, 'country': 'Russia'}, {'year': '2014', 'petroleum_product': 'LPG in MT', 'sale': 0, 'country': 'Russia'}, {'year': '2014', 'petroleum_product': 'Mineral Turpentine Oil', 'sale': 401394, 'country': 'Russia'}, {'year': '2013', 'petroleum_product': 'Petrol', 'sale': 123562, 'country': 'Saudi Arabia'}, {'year': '2013', 'petroleum_product': 'Diesel', 'sale': 701393, 'country': 'Saudi Arabia'}, {'year': '2013', 'petroleum_product': 'Kerosene', 'sale': 28628, 'country': 'Saudi Arabia'}, {'year': '2013', 'petroleum_product': 'Aviation Turbine Fuel', 'sale': 239404, 'country': 'Saudi Arabia'}, {'year': '2013', 'petroleum_product': 'Light Diesel Oil', 'sale': 1000, 'country': 'Saudi Arabia'}, {'year': '2013', 'petroleum_product': 'Furnace Oil', 'sale': 0, 'country': 'Saudi Arabia'}, {'year': '2013', 'petroleum_product': 'LPG in MT', 'sale': 158299, 'country': 'Saudi Arabia'}, {'year': '2013', 'petroleum_product': 'Mineral Turpentine Oil', 'sale': 0, 'country': 'Saudi Arabia'}, {'year': '2013', 'petroleum_product': 'Petrol', 'sale': 0, 'country': 'Isereal'}, {'year': '2013', 'petroleum_product': 'Diesel', 'sale': 401493, 'country': 'Isereal'}, {'year': '2013', 'petroleum_product': 'Kerosene', 'sale': 0, 'country': 'Isereal'}, {'year': '2013', 'petroleum_product': 'Aviation Turbine Fuel', 'sale': 28614, 'country': 'Isereal'}, {'year': '2013', 'petroleum_product': 'Light Diesel Oil', 'sale': 184677, 'country': 'Isereal'}, {'year': '2013', 'petroleum_product': 'Furnace Oil', 'sale': 243673, 'country': 'Isereal'}, {'year': '2013', 'petroleum_product': 'LPG in MT', 'sale': 0, 'country': 'Isereal'}, {'year': '2013', 'petroleum_product': 'Mineral Turpentine Oil', 'sale': 12347, 'country': 'Isereal'}, {'year': '2013', 'petroleum_product': 'Petrol', 'sale': 0, 'country': 'USA'}, {'year': '2013', 'petroleum_product': 'Diesel', 'sale': 201493, 'country': 'USA'}, {'year': '2013', 'petroleum_product': 'Kerosene', 'sale': 0, 'country': 'USA'}, {'year': '2013', 'petroleum_product': 'Aviation Turbine Fuel', 'sale': 12658, 'country': 'USA'}, {'year': '2013', 'petroleum_product': 'Light Diesel Oil', 'sale': 0, 'country': 'USA'}, {'year': '2013', 'petroleum_product': 'Furnace Oil', 'sale': 45623, 'country': 'USA'}, {'year': '2013', 'petroleum_product': 'LPG in MT', 'sale': 243273, 'country': 'USA'}, {'year': '2013', 'petroleum_product': 'Mineral Turpentine Oil', 'sale': 0, 'country': 'USA'}, {'year': '2013', 'petroleum_product': 'Petrol', 'sale': 65321, 'country': 'Russia'}, {'year': '2013', 'petroleum_product': 'Diesel', 'sale': 251393, 'country': 'Russia'}, {'year': '2013', 'petroleum_product': 'Kerosene', 'sale': 354393, 'country': 'Russia'}, {'year': '2013', 'petroleum_product': 'Aviation Turbine Fuel', 'sale': 52628, 'country': 'Russia'}, {'year': '2013', 'petroleum_product': 'Light Diesel Oil', 'sale': 23415, 'country': 'Russia'}, {'year': '2013', 'petroleum_product': 'Furnace Oil', 'sale': 0, 'country': 'Russia'}, {'year': '2013', 'petroleum_product': 'LPG in MT', 'sale': 0, 'country': 'Russia'}, {'year': '2013', 'petroleum_product': 'Mineral Turpentine Oil', 'sale': 101394, 'country': 'Russia'}, {'year': '2012', 'petroleum_product': 'Petrol', 'sale': 13562, 'country': 'Saudi Arabia'}, {'year': '2012', 'petroleum_product': 'Diesel', 'sale': 201393, 'country': 'Saudi Arabia'}, {'year': '2012', 'petroleum_product': 'Kerosene', 'sale': 128628, 'country': 'Saudi Arabia'}, {'year': '2012', 'petroleum_product': 'Aviation Turbine Fuel', 'sale': 439404, 'country': 'Saudi Arabia'}, {'year': '2012', 'petroleum_product': 'Light Diesel Oil', 'sale': 101230, 'country': 'Saudi Arabia'}, {'year': '2012', 'petroleum_product': 'Furnace Oil', 'sale': 0, 'country': 'Saudi Arabia'}, {'year': '2012', 'petroleum_product': 'LPG in MT', 'sale': 0, 'country': 'Saudi Arabia'}, {'year': '2012', 'petroleum_product': 'Mineral Turpentine Oil', 'sale': 41244, 'country': 'Saudi Arabia'}, {'year': '2012', 'petroleum_product': 'Petrol', 'sale': 53214, 'country': 'Isereal'}, {'year': '2012', 'petroleum_product': 'Diesel', 'sale': 101493, 'country': 'Isereal'}, {'year': '2012', 'petroleum_product': 'Kerosene', 'sale': 76523, 'country': 'Isereal'}, {'year': '2012', 'petroleum_product': 'Aviation Turbine Fuel', 'sale': 0, 'country': 'Isereal'}, {'year': '2012', 'petroleum_product': 'Light Diesel Oil', 'sale': 384677, 'country': 'Isereal'}, {'year': '2012', 'petroleum_product': 'Furnace Oil', 'sale': 143673, 'country': 'Isereal'}, {'year': '2012', 'petroleum_product': 'LPG in MT', 'sale': 0, 'country': 'Isereal'}, {'year': '2012', 'petroleum_product': 'Mineral Turpentine Oil', 'sale': 132347, 'country': 'Isereal'}, {'year': '2012', 'petroleum_product': 'Petrol', 'sale': 13478, 'country': 'USA'}, {'year': '2012', 'petroleum_product': 'Diesel', 'sale': 10873, 'country': 'USA'}, {'year': '2012', 'petroleum_product': 'Kerosene', 'sale': 0, 'country': 'USA'}, {'year': '2012', 'petroleum_product': 'Aviation Turbine Fuel', 'sale': 0, 'country': 'USA'}, {'year': '2012', 'petroleum_product': 'Light Diesel Oil', 'sale': 53134, 'country': 'USA'}, {'year': '2012', 'petroleum_product': 'Furnace Oil', 'sale': 45627, 'country': 'USA'}, {'year': '2012', 'petroleum_product': 'LPG in MT', 'sale': 0, 'country': 'USA'}, {'year': '2012', 'petroleum_product': 'Mineral Turpentine Oil', 'sale': 23273, 'country': 'USA'}, {'year': '2012', 'petroleum_product': 'Petrol', 'sale': 35321, 'country': 'Russia'}, {'year': '2012', 'petroleum_product': 'Diesel', 'sale': 151393, 'country': 'Russia'}, {'year': '2012', 'petroleum_product': 'Kerosene', 'sale': 454393, 'country': 'Russia'}, {'year': '2012', 'petroleum_product': 'Aviation Turbine Fuel', 'sale': 0, 'country': 'Russia'}, {'year': '2012', 'petroleum_product': 'Light Diesel Oil', 'sale': 13415, 'country': 'Russia'}, {'year': '2012', 'petroleum_product': 'Furnace Oil', 'sale': 44312, 'country': 'Russia'}, {'year': '2012', 'petroleum_product': 'LPG in MT', 'sale': 0, 'country': 'Russia'}, {'year': '2012', 'petroleum_product': 'Mineral Turpentine Oil', 'sale': 0, 'country': 'Russia'}, {'year': '2011', 'petroleum_product': 'Petrol', 'sale': 13782, 'country': 'Saudi Arabia'}, {'year': '2011', 'petroleum_product': 'Diesel', 'sale': 207823, 'country': 'Saudi Arabia'}, {'year': '2011', 'petroleum_product': 'Kerosene', 'sale': 127828, 'country': 'Saudi Arabia'}, {'year': '2011', 'petroleum_product': 'Aviation Turbine Fuel', 'sale': 437824, 'country': 'Saudi Arabia'}, {'year': '2011', 'petroleum_product': 'Light Diesel Oil', 'sale': 107820, 'country': 'Saudi Arabia'}, {'year': '2011', 'petroleum_product': 'Furnace Oil', 'sale': 0, 'country': 'Saudi Arabia'}, {'year': '2011', 'petroleum_product': 'LPG in MT', 'sale': 18233, 'country': 'Saudi Arabia'}, {'year': '2011', 'petroleum_product': 'Mineral Turpentine Oil', 'sale': 41782, 'country': 'Saudi Arabia'}, {'year': '2011', 'petroleum_product': 'Petrol', 'sale': 53782, 'country': 'Isereal'}, {'year': '2011', 'petroleum_product': 'Diesel', 'sale': 107823, 'country': 'Isereal'}, {'year': '2011', 'petroleum_product': 'Kerosene', 'sale': 0, 'country': 'Isereal'}, {'year': '2011', 'petroleum_product': 'Aviation Turbine Fuel', 'sale': 36782, 'country': 'Isereal'}, {'year': '2011', 'petroleum_product': 'Light Diesel Oil', 'sale': 187827, 'country': 'Isereal'}, {'year': '2011', 'petroleum_product': 'Furnace Oil', 'sale': 147823, 'country': 'Isereal'}, {'year': '2011', 'petroleum_product': 'LPG in MT', 'sale': 0, 'country': 'Isereal'}, {'year': '2011', 'petroleum_product': 'Mineral Turpentine Oil', 'sale': 137827, 'country': 'Isereal'}, {'year': '2011', 'petroleum_product': 'Petrol', 'sale': 13782, 'country': 'USA'}, {'year': '2011', 'petroleum_product': 'Diesel', 'sale': 10782, 'country': 'USA'}, {'year': '2011', 'petroleum_product': 'Kerosene', 'sale': 0, 'country': 'USA'}, {'year': '2011', 'petroleum_product': 'Aviation Turbine Fuel', 'sale': 78233, 'country': 'USA'}, {'year': '2011', 'petroleum_product': 'Light Diesel Oil', 'sale': 53782, 'country': 'USA'}, {'year': '2011', 'petroleum_product': 'Furnace Oil', 'sale': 45782, 'country': 'USA'}, {'year': '2011', 'petroleum_product': 'LPG in MT', 'sale': 0, 'country': 'USA'}, {'year': '2011', 'petroleum_product': 'Mineral Turpentine Oil', 'sale': 23782, 'country': 'USA'}, {'year': '2011', 'petroleum_product': 'Petrol', 'sale': 35782, 'country': 'Russia'}, {'year': '2011', 'petroleum_product': 'Diesel', 'sale': 157823, 'country': 'Russia'}, {'year': '2011', 'petroleum_product': 'Kerosene', 'sale': 457823, 'country': 'Russia'}, {'year': '2011', 'petroleum_product': 'Aviation Turbine Fuel', 'sale': 0, 'country': 'Russia'}, {'year': '2011', 'petroleum_product': 'Light Diesel Oil', 'sale': 13782, 'country': 'Russia'}, {'year': '2011', 'petroleum_product': 'Furnace Oil', 'sale': 44782, 'country': 'Russia'}, {'year': '2011', 'petroleum_product': 'LPG in MT', 'sale': 18245, 'country': 'Russia'}, {'year': '2011', 'petroleum_product': 'Mineral Turpentine Oil', 'sale': 0, 'country': 'Russia'}, {'year': '2010', 'petroleum_product': 'Petrol', 'sale': 32642, 'country': 'Saudi Arabia'}, {'year': '2010', 'petroleum_product': 'Diesel', 'sale': 23642, 'country': 'Saudi Arabia'}, {'year': '2010', 'petroleum_product': 'Kerosene', 'sale': 128642, 'country': 'Saudi Arabia'}, {'year': '2010', 'petroleum_product': 'Aviation Turbine Fuel', 'sale': 478242, 'country': 'Saudi Arabia'}, {'year': '2010', 'petroleum_product': 'Light Diesel Oil', 'sale': 178264, 'country': 'Saudi Arabia'}, {'year': '2010', 'petroleum_product': 'Furnace Oil', 'sale': 49876, 'country': 'Saudi Arabia'}, {'year': '2010', 'petroleum_product': 'LPG in MT', 'sale': 823642, 'country': 'Saudi Arabia'}, {'year': '2010', 'petroleum_product': 'Mineral Turpentine Oil', 'sale': 0, 'country': 'Saudi Arabia'}, {'year': '2010', 'petroleum_product': 'Petrol', 'sale': 537826, 'country': 'Isereal'}, {'year': '2010', 'petroleum_product': 'Diesel', 'sale': 0, 'country': 'Isereal'}, {'year': '2010', 'petroleum_product': 'Kerosene', 'sale': 32642, 'country': 'Isereal'}, {'year': '2010', 'petroleum_product': 'Aviation Turbine Fuel', 'sale': 656422, 'country': 'Isereal'}, {'year': '2010', 'petroleum_product': 'Light Diesel Oil', 'sale': 72764, 'country': 'Isereal'}, {'year': '2010', 'petroleum_product': 'Furnace Oil', 'sale': 0, 'country': 'Isereal'}, {'year': '2010', 'petroleum_product': 'LPG in MT', 'sale': 82423, 'country': 'Isereal'}, {'year': '2010', 'petroleum_product': 'Mineral Turpentine Oil', 'sale': 137852, 'country': 'Isereal'}, {'year': '2010', 'petroleum_product': 'Petrol', 'sale': 444123, 'country': 'USA'}, {'year': '2010', 'petroleum_product': 'Diesel', 'sale': 0, 'country': 'USA'}, {'year': '2010', 'petroleum_product': 'Kerosene', 'sale': 23673, 'country': 'USA'}, {'year': '2010', 'petroleum_product': 'Aviation Turbine Fuel', 'sale': 0, 'country': 'USA'}, {'year': '2010', 'petroleum_product': 'Light Diesel Oil', 'sale': 782642, 'country': 'USA'}, {'year': '2010', 'petroleum_product': 'Furnace Oil', 'sale': 452642, 'country': 'USA'}, {'year': '2010', 'petroleum_product': 'LPG in MT', 'sale': 12354, 'country': 'USA'}, {'year': '2010', 'petroleum_product': 'Mineral Turpentine Oil', 'sale': 232642, 'country': 'USA'}, {'year': '2010', 'petroleum_product': 'Petrol', 'sale': 178242, 'country': 'Russia'}, {'year': '2010', 'petroleum_product': 'Diesel', 'sale': 33642, 'country': 'Russia'}, {'year': '2010', 'petroleum_product': 'Kerosene', 'sale': 823642, 'country': 'Russia'}, {'year': '2010', 'petroleum_product': 'Aviation Turbine Fuel', 'sale': 76523, 'country': 'Russia'}, {'year': '2010', 'petroleum_product': 'Light Diesel Oil', 'sale': 132642, 'country': 'Russia'}, {'year': '2010', 'petroleum_product': 'Furnace Oil', 'sale': 782642, 'country': 'Russia'}, {'year': '2010', 'petroleum_product': 'LPG in MT', 'sale': 246424, 'country': 'Russia'}, {'year': '2010', 'petroleum_product': 'Mineral Turpentine Oil', 'sale': 123127, 'country': 'Russia'}, {'year': '2009', 'petroleum_product': 'Petrol', 'sale': 132424, 'country': 'Saudi Arabia'}, {'year': '2009', 'petroleum_product': 'Diesel', 'sale': 223424, 'country': 'Saudi Arabia'}, {'year': '2009', 'petroleum_product': 'Kerosene', 'sale': 128424, 'country': 'Saudi Arabia'}, {'year': '2009', 'petroleum_product': 'Aviation Turbine Fuel', 'sale': 43724, 'country': 'Saudi Arabia'}, {'year': '2009', 'petroleum_product': 'Light Diesel Oil', 'sale': 53123, 'country': 'Saudi Arabia'}, {'year': '2009', 'petroleum_product': 'Furnace Oil', 'sale': 455524, 'country': 'Saudi Arabia'}, {'year': '2009', 'petroleum_product': 'LPG in MT', 'sale': 20024, 'country': 'Saudi Arabia'}, {'year': '2009', 'petroleum_product': 'Mineral Turpentine Oil', 'sale': 71424, 'country': 'Saudi Arabia'}, {'year': '2009', 'petroleum_product': 'Petrol', 'sale': 57424, 'country': 'Isereal'}, {'year': '2009', 'petroleum_product': 'Diesel', 'sale': 61424, 'country': 'Isereal'}, {'year': '2009', 'petroleum_product': 'Kerosene', 'sale': 32424, 'country': 'Isereal'}, {'year': '2009', 'petroleum_product': 'Aviation Turbine Fuel', 'sale': 654242, 'country': 'Isereal'}, {'year': '2009', 'petroleum_product': 'Light Diesel Oil', 'sale': 727427, 'country': 'Isereal'}, {'year': '2009', 'petroleum_product': 'Furnace Oil', 'sale': 237812, 'country': 'Isereal'}, {'year': '2009', 'petroleum_product': 'LPG in MT', 'sale': 84243, 'country': 'Isereal'}, {'year': '2009', 'petroleum_product': 'Mineral Turpentine Oil', 'sale': 137024, 'country': 'Isereal'}, {'year': '2009', 'petroleum_product': 'Petrol', 'sale': 76123, 'country': 'USA'}, {'year': '2009', 'petroleum_product': 'Diesel', 'sale': 51008, 'country': 'USA'}, {'year': '2009', 'petroleum_product': 'Kerosene', 'sale': 32424, 'country': 'USA'}, {'year': '2009', 'petroleum_product': 'Aviation Turbine Fuel', 'sale': 214249, 'country': 'USA'}, {'year': '2009', 'petroleum_product': 'Light Diesel Oil', 'sale': 782424, 'country': 'USA'}, {'year': '2009', 'petroleum_product': 'Furnace Oil', 'sale': 465424, 'country': 'USA'}, {'year': '2009', 'petroleum_product': 'LPG in MT', 'sale': 237865, 'country': 'USA'}, {'year': '2009', 'petroleum_product': 'Mineral Turpentine Oil', 'sale': 232424, 'country': 'USA'}, {'year': '2009', 'petroleum_product': 'Petrol', 'sale': 57844, 'country': 'Russia'}, {'year': '2009', 'petroleum_product': 'Diesel', 'sale': 33424, 'country': 'Russia'}, {'year': '2009', 'petroleum_product': 'Kerosene', 'sale': 823424, 'country': 'Russia'}, {'year': '2009', 'petroleum_product': 'Aviation Turbine Fuel', 'sale': 314246, 'country': 'Russia'}, {'year': '2009', 'petroleum_product': 'Light Diesel Oil', 'sale': 402024, 'country': 'Russia'}, {'year': '2009', 'petroleum_product': 'Furnace Oil', 'sale': 282424, 'country': 'Russia'}, {'year': '2009', 'petroleum_product': 'LPG in MT', 'sale': 98123, 'country': 'Russia'}, {'year': '2009', 'petroleum_product': 'Mineral Turpentine Oil', 'sale': 63424, 'country': 'Russia'}, {'year': '2008', 'petroleum_product': 'Petrol', 'sale': 169474, 'country': 'Saudi Arabia'}, {'year': '2008', 'petroleum_product': 'Diesel', 'sale': 103724, 'country': 'Saudi Arabia'}, {'year': '2008', 'petroleum_product': 'Kerosene', 'sale': 298724, 'country': 'Saudi Arabia'}, {'year': '2008', 'petroleum_product': 'Aviation Turbine Fuel', 'sale': 871234, 'country': 'Saudi Arabia'}, {'year': '2008', 'petroleum_product': 'Light Diesel Oil', 'sale': 42356, 'country': 'Saudi Arabia'}, {'year': '2008', 'petroleum_product': 'Furnace Oil', 'sale': 129574, 'country': 'Saudi Arabia'}, {'year': '2008', 'petroleum_product': 'LPG in MT', 'sale': 19474, 'country': 'Saudi Arabia'}, {'year': '2008', 'petroleum_product': 'Mineral Turpentine Oil', 'sale': 121927, 'country': 'Saudi Arabia'}, {'year': '2008', 'petroleum_product': 'Petrol', 'sale': 31145, 'country': 'Isereal'}, {'year': '2008', 'petroleum_product': 'Diesel', 'sale': 33213, 'country': 'Isereal'}, {'year': '2008', 'petroleum_product': 'Kerosene', 'sale': 51209, 'country': 'Isereal'}, {'year': '2008', 'petroleum_product': 'Aviation Turbine Fuel', 'sale': 15922, 'country': 'Isereal'}, {'year': '2008', 'petroleum_product': 'Light Diesel Oil', 'sale': 329474, 'country': 'Isereal'}, {'year': '2008', 'petroleum_product': 'Furnace Oil', 'sale': 12355, 'country': 'Isereal'}, {'year': '2008', 'petroleum_product': 'LPG in MT', 'sale': 139872, 'country': 'Isereal'}, {'year': '2008', 'petroleum_product': 'Mineral Turpentine Oil', 'sale': 76123, 'country': 'Isereal'}, {'year': '2008', 'petroleum_product': 'Petrol', 'sale': 600189, 'country': 'USA'}, {'year': '2008', 'petroleum_product': 'Diesel', 'sale': 213927, 'country': 'USA'}, {'year': '2008', 'petroleum_product': 'Kerosene', 'sale': 119273, 'country': 'USA'}, {'year': '2008', 'petroleum_product': 'Aviation Turbine Fuel', 'sale': 123673, 'country': 'USA'}, {'year': '2008', 'petroleum_product': 'Light Diesel Oil', 'sale': 159474, 'country': 'USA'}, {'year': '2008', 'petroleum_product': 'Furnace Oil', 'sale': 342927, 'country': 'USA'}, {'year': '2008', 'petroleum_product': 'LPG in MT', 'sale': 125270, 'country': 'USA'}, {'year': '2008', 'petroleum_product': 'Mineral Turpentine Oil', 'sale': 130474, 'country': 'USA'}, {'year': '2008', 'petroleum_product': 'Petrol', 'sale': 12375, 'country': 'Russia'}, {'year': '2008', 'petroleum_product': 'Diesel', 'sale': 243927, 'country': 'Russia'}, {'year': '2008', 'petroleum_product': 'Kerosene', 'sale': 332944, 'country': 'Russia'}, {'year': '2008', 'petroleum_product': 'Aviation Turbine Fuel', 'sale': 49087, 'country': 'Russia'}, {'year': '2008', 'petroleum_product': 'Light Diesel Oil', 'sale': 139474, 'country': 'Russia'}, {'year': '2008', 'petroleum_product': 'Furnace Oil', 'sale': 189474, 'country': 'Russia'}, {'year': '2008', 'petroleum_product': 'LPG in MT', 'sale': 17809, 'country': 'Russia'}, {'year': '2008', 'petroleum_product': 'Mineral Turpentine Oil', 'sale': 129474, 'country': 'Russia'}, {'year': '2007', 'petroleum_product': 'Petrol', 'sale': 94732, 'country': 'Saudi Arabia'}, {'year': '2007', 'petroleum_product': 'Diesel', 'sale': 27232, 'country': 'Saudi Arabia'}, {'year': '2007', 'petroleum_product': 'Kerosene', 'sale': 987232, 'country': 'Saudi Arabia'}, {'year': '2007', 'petroleum_product': 'Aviation Turbine Fuel', 'sale': 123356, 'country': 'Saudi Arabia'}, {'year': '2007', 'petroleum_product': 'Light Diesel Oil', 'sale': 0, 'country': 'Saudi Arabia'}, {'year': '2007', 'petroleum_product': 'Furnace Oil', 'sale': 95732, 'country': 'Saudi Arabia'}, {'year': '2007', 'petroleum_product': 'LPG in MT', 'sale': 84732, 'country': 'Saudi Arabia'}, {'year': '2007', 'petroleum_product': 'Mineral Turpentine Oil', 'sale': 0, 'country': 'Saudi Arabia'}, {'year': '2007', 'petroleum_product': 'Petrol', 'sale': 43122, 'country': 'Isereal'}, {'year': '2007', 'petroleum_product': 'Diesel', 'sale': 12132, 'country': 'Isereal'}, {'year': '2007', 'petroleum_product': 'Kerosene', 'sale': 0, 'country': 'Isereal'}, {'year': '2007', 'petroleum_product': 'Aviation Turbine Fuel', 'sale': 59232, 'country': 'Isereal'}, {'year': '2007', 'petroleum_product': 'Light Diesel Oil', 'sale': 29472, 'country': 'Isereal'}, {'year': '2007', 'petroleum_product': 'Furnace Oil', 'sale': 43187, 'country': 'Isereal'}, {'year': '2007', 'petroleum_product': 'LPG in MT', 'sale': 0, 'country': 'Isereal'}, {'year': '2007', 'petroleum_product': 'Mineral Turpentine Oil', 'sale': 3612, 'country': 'Isereal'}, {'year': '2007', 'petroleum_product': 'Petrol', 'sale': 0, 'country': 'USA'}, {'year': '2007', 'petroleum_product': 'Diesel', 'sale': 13922, 'country': 'USA'}, {'year': '2007', 'petroleum_product': 'Kerosene', 'sale': 92701, 'country': 'USA'}, {'year': '2007', 'petroleum_product': 'Aviation Turbine Fuel', 'sale': 0, 'country': 'USA'}, {'year': '2007', 'petroleum_product': 'Light Diesel Oil', 'sale': 294732, 'country': 'USA'}, {'year': '2007', 'petroleum_product': 'Furnace Oil', 'sale': 129232, 'country': 'USA'}, {'year': '2007', 'petroleum_product': 'LPG in MT', 'sale': 527032, 'country': 'USA'}, {'year': '2007', 'petroleum_product': 'Mineral Turpentine Oil', 'sale': 0, 'country': 'USA'}, {'year': '2007', 'petroleum_product': 'Petrol', 'sale': 22232, 'country': 'Russia'}, {'year': '2007', 'petroleum_product': 'Diesel', 'sale': 9232, 'country': 'Russia'}, {'year': '2007', 'petroleum_product': 'Kerosene', 'sale': 9432, 'country': 'Russia'}, {'year': '2007', 'petroleum_product': 'Aviation Turbine Fuel', 'sale': 0, 'country': 'Russia'}, {'year': '2007', 'petroleum_product': 'Light Diesel Oil', 'sale': 294732, 'country': 'Russia'}, {'year': '2007', 'petroleum_product': 'Furnace Oil', 'sale': 194732, 'country': 'Russia'}, {'year': '2007', 'petroleum_product': 'LPG in MT', 'sale': 29473, 'country': 'Russia'}, {'year': '2007', 'petroleum_product': 'Mineral Turpentine Oil', 'sale': 0, 'country': 'Russia'}]\n"
     ]
    }
   ],
   "source": [
    "#print(raw_dict)"
   ]
  },
  {
   "cell_type": "code",
   "execution_count": 45,
   "metadata": {
    "ExecuteTime": {
     "end_time": "2021-10-06T11:57:12.647653Z",
     "start_time": "2021-10-06T11:57:12.642071Z"
    }
   },
   "outputs": [],
   "source": [
    "# print([x['country'] for x in raw_dict])\n",
    "# test = [(country_with_id[x['country']],) for x in raw_dict] #(country_with_id['Saudi Arabia'] = 3) \n",
    "# print(test)"
   ]
  },
  {
   "cell_type": "code",
   "execution_count": 9,
   "metadata": {
    "ExecuteTime": {
     "end_time": "2021-10-07T06:16:48.520664Z",
     "start_time": "2021-10-07T06:16:48.515324Z"
    }
   },
   "outputs": [
    {
     "name": "stdout",
     "output_type": "stream",
     "text": [
      "[(3, 2, '2014', 283567), (3, 3, '2014', 901393), (3, 4, '2014', 18628), (3, 6, '2014', 139404), (3, 1, '2014', 0), (3, 7, '2014', 0), (3, 5, '2014', 258299), (3, 8, '2014', 0), (4, 2, '2014', 183567), (4, 3, '2014', 201393), (4, 4, '2014', 38628), (4, 6, '2014', 0), (4, 1, '2014', 144677), (4, 7, '2014', 443673), (4, 5, '2014', 0), (4, 8, '2014', 0), (1, 2, '2014', 483567), (1, 3, '2014', 101393), (1, 4, '2014', 0), (1, 6, '2014', 12628), (1, 1, '2014', 144657), (1, 7, '2014', 0), (1, 5, '2014', 143273), (1, 8, '2014', 0), (2, 2, '2014', 0), (2, 3, '2014', 151393), (2, 4, '2014', 454393), (2, 6, '2014', 32628), (2, 1, '2014', 0), (2, 7, '2014', 0), (2, 5, '2014', 0), (2, 8, '2014', 401394), (3, 2, '2013', 123562), (3, 3, '2013', 701393), (3, 4, '2013', 28628), (3, 6, '2013', 239404), (3, 1, '2013', 1000), (3, 7, '2013', 0), (3, 5, '2013', 158299), (3, 8, '2013', 0), (4, 2, '2013', 0), (4, 3, '2013', 401493), (4, 4, '2013', 0), (4, 6, '2013', 28614), (4, 1, '2013', 184677), (4, 7, '2013', 243673), (4, 5, '2013', 0), (4, 8, '2013', 12347), (1, 2, '2013', 0), (1, 3, '2013', 201493), (1, 4, '2013', 0), (1, 6, '2013', 12658), (1, 1, '2013', 0), (1, 7, '2013', 45623), (1, 5, '2013', 243273), (1, 8, '2013', 0), (2, 2, '2013', 65321), (2, 3, '2013', 251393), (2, 4, '2013', 354393), (2, 6, '2013', 52628), (2, 1, '2013', 23415), (2, 7, '2013', 0), (2, 5, '2013', 0), (2, 8, '2013', 101394), (3, 2, '2012', 13562), (3, 3, '2012', 201393), (3, 4, '2012', 128628), (3, 6, '2012', 439404), (3, 1, '2012', 101230), (3, 7, '2012', 0), (3, 5, '2012', 0), (3, 8, '2012', 41244), (4, 2, '2012', 53214), (4, 3, '2012', 101493), (4, 4, '2012', 76523), (4, 6, '2012', 0), (4, 1, '2012', 384677), (4, 7, '2012', 143673), (4, 5, '2012', 0), (4, 8, '2012', 132347), (1, 2, '2012', 13478), (1, 3, '2012', 10873), (1, 4, '2012', 0), (1, 6, '2012', 0), (1, 1, '2012', 53134), (1, 7, '2012', 45627), (1, 5, '2012', 0), (1, 8, '2012', 23273), (2, 2, '2012', 35321), (2, 3, '2012', 151393), (2, 4, '2012', 454393), (2, 6, '2012', 0), (2, 1, '2012', 13415), (2, 7, '2012', 44312), (2, 5, '2012', 0), (2, 8, '2012', 0), (3, 2, '2011', 13782), (3, 3, '2011', 207823), (3, 4, '2011', 127828), (3, 6, '2011', 437824), (3, 1, '2011', 107820), (3, 7, '2011', 0), (3, 5, '2011', 18233), (3, 8, '2011', 41782), (4, 2, '2011', 53782), (4, 3, '2011', 107823), (4, 4, '2011', 0), (4, 6, '2011', 36782), (4, 1, '2011', 187827), (4, 7, '2011', 147823), (4, 5, '2011', 0), (4, 8, '2011', 137827), (1, 2, '2011', 13782), (1, 3, '2011', 10782), (1, 4, '2011', 0), (1, 6, '2011', 78233), (1, 1, '2011', 53782), (1, 7, '2011', 45782), (1, 5, '2011', 0), (1, 8, '2011', 23782), (2, 2, '2011', 35782), (2, 3, '2011', 157823), (2, 4, '2011', 457823), (2, 6, '2011', 0), (2, 1, '2011', 13782), (2, 7, '2011', 44782), (2, 5, '2011', 18245), (2, 8, '2011', 0), (3, 2, '2010', 32642), (3, 3, '2010', 23642), (3, 4, '2010', 128642), (3, 6, '2010', 478242), (3, 1, '2010', 178264), (3, 7, '2010', 49876), (3, 5, '2010', 823642), (3, 8, '2010', 0), (4, 2, '2010', 537826), (4, 3, '2010', 0), (4, 4, '2010', 32642), (4, 6, '2010', 656422), (4, 1, '2010', 72764), (4, 7, '2010', 0), (4, 5, '2010', 82423), (4, 8, '2010', 137852), (1, 2, '2010', 444123), (1, 3, '2010', 0), (1, 4, '2010', 23673), (1, 6, '2010', 0), (1, 1, '2010', 782642), (1, 7, '2010', 452642), (1, 5, '2010', 12354), (1, 8, '2010', 232642), (2, 2, '2010', 178242), (2, 3, '2010', 33642), (2, 4, '2010', 823642), (2, 6, '2010', 76523), (2, 1, '2010', 132642), (2, 7, '2010', 782642), (2, 5, '2010', 246424), (2, 8, '2010', 123127), (3, 2, '2009', 132424), (3, 3, '2009', 223424), (3, 4, '2009', 128424), (3, 6, '2009', 43724), (3, 1, '2009', 53123), (3, 7, '2009', 455524), (3, 5, '2009', 20024), (3, 8, '2009', 71424), (4, 2, '2009', 57424), (4, 3, '2009', 61424), (4, 4, '2009', 32424), (4, 6, '2009', 654242), (4, 1, '2009', 727427), (4, 7, '2009', 237812), (4, 5, '2009', 84243), (4, 8, '2009', 137024), (1, 2, '2009', 76123), (1, 3, '2009', 51008), (1, 4, '2009', 32424), (1, 6, '2009', 214249), (1, 1, '2009', 782424), (1, 7, '2009', 465424), (1, 5, '2009', 237865), (1, 8, '2009', 232424), (2, 2, '2009', 57844), (2, 3, '2009', 33424), (2, 4, '2009', 823424), (2, 6, '2009', 314246), (2, 1, '2009', 402024), (2, 7, '2009', 282424), (2, 5, '2009', 98123), (2, 8, '2009', 63424), (3, 2, '2008', 169474), (3, 3, '2008', 103724), (3, 4, '2008', 298724), (3, 6, '2008', 871234), (3, 1, '2008', 42356), (3, 7, '2008', 129574), (3, 5, '2008', 19474), (3, 8, '2008', 121927), (4, 2, '2008', 31145), (4, 3, '2008', 33213), (4, 4, '2008', 51209), (4, 6, '2008', 15922), (4, 1, '2008', 329474), (4, 7, '2008', 12355), (4, 5, '2008', 139872), (4, 8, '2008', 76123), (1, 2, '2008', 600189), (1, 3, '2008', 213927), (1, 4, '2008', 119273), (1, 6, '2008', 123673), (1, 1, '2008', 159474), (1, 7, '2008', 342927), (1, 5, '2008', 125270), (1, 8, '2008', 130474), (2, 2, '2008', 12375), (2, 3, '2008', 243927), (2, 4, '2008', 332944), (2, 6, '2008', 49087), (2, 1, '2008', 139474), (2, 7, '2008', 189474), (2, 5, '2008', 17809), (2, 8, '2008', 129474), (3, 2, '2007', 94732), (3, 3, '2007', 27232), (3, 4, '2007', 987232), (3, 6, '2007', 123356), (3, 1, '2007', 0), (3, 7, '2007', 95732), (3, 5, '2007', 84732), (3, 8, '2007', 0), (4, 2, '2007', 43122), (4, 3, '2007', 12132), (4, 4, '2007', 0), (4, 6, '2007', 59232), (4, 1, '2007', 29472), (4, 7, '2007', 43187), (4, 5, '2007', 0), (4, 8, '2007', 3612), (1, 2, '2007', 0), (1, 3, '2007', 13922), (1, 4, '2007', 92701), (1, 6, '2007', 0), (1, 1, '2007', 294732), (1, 7, '2007', 129232), (1, 5, '2007', 527032), (1, 8, '2007', 0), (2, 2, '2007', 22232), (2, 3, '2007', 9232), (2, 4, '2007', 9432), (2, 6, '2007', 0), (2, 1, '2007', 294732), (2, 7, '2007', 194732), (2, 5, '2007', 29473), (2, 8, '2007', 0)]\n"
     ]
    }
   ],
   "source": [
    "normalized_sales_data = [\n",
    "            (country_with_id[x['country']], product_name_with_id[x['petroleum_product']], x['year'], x['sale']) for x\n",
    "            in raw_dict\n",
    "                        ]\n",
    "print(normalized_sales_data)"
   ]
  },
  {
   "cell_type": "code",
   "execution_count": 10,
   "metadata": {
    "ExecuteTime": {
     "end_time": "2021-10-07T06:16:52.704055Z",
     "start_time": "2021-10-07T06:16:52.695572Z"
    }
   },
   "outputs": [],
   "source": [
    "def _populate_sales_data(raw_dict):\n",
    "    cursor.executemany(\"INSERT INTO petroleum_sales(country_id,product_id,year,sales) VALUEs(?,?,?,?)\",raw_dict)\n",
    "\n",
    "sales_data = _populate_sales_data(normalized_sales_data)\n"
   ]
  },
  {
   "cell_type": "code",
   "execution_count": 12,
   "metadata": {
    "ExecuteTime": {
     "end_time": "2021-10-07T06:17:13.976546Z",
     "start_time": "2021-10-07T06:17:13.968480Z"
    }
   },
   "outputs": [
    {
     "name": "stdout",
     "output_type": "stream",
     "text": [
      "[(2014, 'Saudi Arabia', 'Petrol', 283567.0), (2014, 'Saudi Arabia', 'Diesel', 901393.0), (2014, 'Saudi Arabia', 'Kerosene', 18628.0), (2014, 'Saudi Arabia', 'Aviation Turbine Fuel', 139404.0), (2014, 'Saudi Arabia', 'Light Diesel Oil', 0.0), (2014, 'Saudi Arabia', 'Furnace Oil', 0.0), (2014, 'Saudi Arabia', 'LPG in MT', 258299.0), (2014, 'Saudi Arabia', 'Mineral Turpentine Oil', 0.0), (2014, 'Isereal', 'Petrol', 183567.0), (2014, 'Isereal', 'Diesel', 201393.0), (2014, 'Isereal', 'Kerosene', 38628.0), (2014, 'Isereal', 'Aviation Turbine Fuel', 0.0), (2014, 'Isereal', 'Light Diesel Oil', 144677.0), (2014, 'Isereal', 'Furnace Oil', 443673.0), (2014, 'Isereal', 'LPG in MT', 0.0), (2014, 'Isereal', 'Mineral Turpentine Oil', 0.0), (2014, 'USA', 'Petrol', 483567.0), (2014, 'USA', 'Diesel', 101393.0), (2014, 'USA', 'Kerosene', 0.0), (2014, 'USA', 'Aviation Turbine Fuel', 12628.0), (2014, 'USA', 'Light Diesel Oil', 144657.0), (2014, 'USA', 'Furnace Oil', 0.0), (2014, 'USA', 'LPG in MT', 143273.0), (2014, 'USA', 'Mineral Turpentine Oil', 0.0), (2014, 'Russia', 'Petrol', 0.0), (2014, 'Russia', 'Diesel', 151393.0), (2014, 'Russia', 'Kerosene', 454393.0), (2014, 'Russia', 'Aviation Turbine Fuel', 32628.0), (2014, 'Russia', 'Light Diesel Oil', 0.0), (2014, 'Russia', 'Furnace Oil', 0.0), (2014, 'Russia', 'LPG in MT', 0.0), (2014, 'Russia', 'Mineral Turpentine Oil', 401394.0), (2013, 'Saudi Arabia', 'Petrol', 123562.0), (2013, 'Saudi Arabia', 'Diesel', 701393.0), (2013, 'Saudi Arabia', 'Kerosene', 28628.0), (2013, 'Saudi Arabia', 'Aviation Turbine Fuel', 239404.0), (2013, 'Saudi Arabia', 'Light Diesel Oil', 1000.0), (2013, 'Saudi Arabia', 'Furnace Oil', 0.0), (2013, 'Saudi Arabia', 'LPG in MT', 158299.0), (2013, 'Saudi Arabia', 'Mineral Turpentine Oil', 0.0), (2013, 'Isereal', 'Petrol', 0.0), (2013, 'Isereal', 'Diesel', 401493.0), (2013, 'Isereal', 'Kerosene', 0.0), (2013, 'Isereal', 'Aviation Turbine Fuel', 28614.0), (2013, 'Isereal', 'Light Diesel Oil', 184677.0), (2013, 'Isereal', 'Furnace Oil', 243673.0), (2013, 'Isereal', 'LPG in MT', 0.0), (2013, 'Isereal', 'Mineral Turpentine Oil', 12347.0), (2013, 'USA', 'Petrol', 0.0), (2013, 'USA', 'Diesel', 201493.0), (2013, 'USA', 'Kerosene', 0.0), (2013, 'USA', 'Aviation Turbine Fuel', 12658.0), (2013, 'USA', 'Light Diesel Oil', 0.0), (2013, 'USA', 'Furnace Oil', 45623.0), (2013, 'USA', 'LPG in MT', 243273.0), (2013, 'USA', 'Mineral Turpentine Oil', 0.0), (2013, 'Russia', 'Petrol', 65321.0), (2013, 'Russia', 'Diesel', 251393.0), (2013, 'Russia', 'Kerosene', 354393.0), (2013, 'Russia', 'Aviation Turbine Fuel', 52628.0), (2013, 'Russia', 'Light Diesel Oil', 23415.0), (2013, 'Russia', 'Furnace Oil', 0.0), (2013, 'Russia', 'LPG in MT', 0.0), (2013, 'Russia', 'Mineral Turpentine Oil', 101394.0), (2012, 'Saudi Arabia', 'Petrol', 13562.0), (2012, 'Saudi Arabia', 'Diesel', 201393.0), (2012, 'Saudi Arabia', 'Kerosene', 128628.0), (2012, 'Saudi Arabia', 'Aviation Turbine Fuel', 439404.0), (2012, 'Saudi Arabia', 'Light Diesel Oil', 101230.0), (2012, 'Saudi Arabia', 'Furnace Oil', 0.0), (2012, 'Saudi Arabia', 'LPG in MT', 0.0), (2012, 'Saudi Arabia', 'Mineral Turpentine Oil', 41244.0), (2012, 'Isereal', 'Petrol', 53214.0), (2012, 'Isereal', 'Diesel', 101493.0), (2012, 'Isereal', 'Kerosene', 76523.0), (2012, 'Isereal', 'Aviation Turbine Fuel', 0.0), (2012, 'Isereal', 'Light Diesel Oil', 384677.0), (2012, 'Isereal', 'Furnace Oil', 143673.0), (2012, 'Isereal', 'LPG in MT', 0.0), (2012, 'Isereal', 'Mineral Turpentine Oil', 132347.0), (2012, 'USA', 'Petrol', 13478.0), (2012, 'USA', 'Diesel', 10873.0), (2012, 'USA', 'Kerosene', 0.0), (2012, 'USA', 'Aviation Turbine Fuel', 0.0), (2012, 'USA', 'Light Diesel Oil', 53134.0), (2012, 'USA', 'Furnace Oil', 45627.0), (2012, 'USA', 'LPG in MT', 0.0), (2012, 'USA', 'Mineral Turpentine Oil', 23273.0), (2012, 'Russia', 'Petrol', 35321.0), (2012, 'Russia', 'Diesel', 151393.0), (2012, 'Russia', 'Kerosene', 454393.0), (2012, 'Russia', 'Aviation Turbine Fuel', 0.0), (2012, 'Russia', 'Light Diesel Oil', 13415.0), (2012, 'Russia', 'Furnace Oil', 44312.0), (2012, 'Russia', 'LPG in MT', 0.0), (2012, 'Russia', 'Mineral Turpentine Oil', 0.0), (2011, 'Saudi Arabia', 'Petrol', 13782.0), (2011, 'Saudi Arabia', 'Diesel', 207823.0), (2011, 'Saudi Arabia', 'Kerosene', 127828.0), (2011, 'Saudi Arabia', 'Aviation Turbine Fuel', 437824.0), (2011, 'Saudi Arabia', 'Light Diesel Oil', 107820.0), (2011, 'Saudi Arabia', 'Furnace Oil', 0.0), (2011, 'Saudi Arabia', 'LPG in MT', 18233.0), (2011, 'Saudi Arabia', 'Mineral Turpentine Oil', 41782.0), (2011, 'Isereal', 'Petrol', 53782.0), (2011, 'Isereal', 'Diesel', 107823.0), (2011, 'Isereal', 'Kerosene', 0.0), (2011, 'Isereal', 'Aviation Turbine Fuel', 36782.0), (2011, 'Isereal', 'Light Diesel Oil', 187827.0), (2011, 'Isereal', 'Furnace Oil', 147823.0), (2011, 'Isereal', 'LPG in MT', 0.0), (2011, 'Isereal', 'Mineral Turpentine Oil', 137827.0), (2011, 'USA', 'Petrol', 13782.0), (2011, 'USA', 'Diesel', 10782.0), (2011, 'USA', 'Kerosene', 0.0), (2011, 'USA', 'Aviation Turbine Fuel', 78233.0), (2011, 'USA', 'Light Diesel Oil', 53782.0), (2011, 'USA', 'Furnace Oil', 45782.0), (2011, 'USA', 'LPG in MT', 0.0), (2011, 'USA', 'Mineral Turpentine Oil', 23782.0), (2011, 'Russia', 'Petrol', 35782.0), (2011, 'Russia', 'Diesel', 157823.0), (2011, 'Russia', 'Kerosene', 457823.0), (2011, 'Russia', 'Aviation Turbine Fuel', 0.0), (2011, 'Russia', 'Light Diesel Oil', 13782.0), (2011, 'Russia', 'Furnace Oil', 44782.0), (2011, 'Russia', 'LPG in MT', 18245.0), (2011, 'Russia', 'Mineral Turpentine Oil', 0.0), (2010, 'Saudi Arabia', 'Petrol', 32642.0), (2010, 'Saudi Arabia', 'Diesel', 23642.0), (2010, 'Saudi Arabia', 'Kerosene', 128642.0), (2010, 'Saudi Arabia', 'Aviation Turbine Fuel', 478242.0), (2010, 'Saudi Arabia', 'Light Diesel Oil', 178264.0), (2010, 'Saudi Arabia', 'Furnace Oil', 49876.0), (2010, 'Saudi Arabia', 'LPG in MT', 823642.0), (2010, 'Saudi Arabia', 'Mineral Turpentine Oil', 0.0), (2010, 'Isereal', 'Petrol', 537826.0), (2010, 'Isereal', 'Diesel', 0.0), (2010, 'Isereal', 'Kerosene', 32642.0), (2010, 'Isereal', 'Aviation Turbine Fuel', 656422.0), (2010, 'Isereal', 'Light Diesel Oil', 72764.0), (2010, 'Isereal', 'Furnace Oil', 0.0), (2010, 'Isereal', 'LPG in MT', 82423.0), (2010, 'Isereal', 'Mineral Turpentine Oil', 137852.0), (2010, 'USA', 'Petrol', 444123.0), (2010, 'USA', 'Diesel', 0.0), (2010, 'USA', 'Kerosene', 23673.0), (2010, 'USA', 'Aviation Turbine Fuel', 0.0), (2010, 'USA', 'Light Diesel Oil', 782642.0), (2010, 'USA', 'Furnace Oil', 452642.0), (2010, 'USA', 'LPG in MT', 12354.0), (2010, 'USA', 'Mineral Turpentine Oil', 232642.0), (2010, 'Russia', 'Petrol', 178242.0), (2010, 'Russia', 'Diesel', 33642.0), (2010, 'Russia', 'Kerosene', 823642.0), (2010, 'Russia', 'Aviation Turbine Fuel', 76523.0), (2010, 'Russia', 'Light Diesel Oil', 132642.0), (2010, 'Russia', 'Furnace Oil', 782642.0), (2010, 'Russia', 'LPG in MT', 246424.0), (2010, 'Russia', 'Mineral Turpentine Oil', 123127.0), (2009, 'Saudi Arabia', 'Petrol', 132424.0), (2009, 'Saudi Arabia', 'Diesel', 223424.0), (2009, 'Saudi Arabia', 'Kerosene', 128424.0), (2009, 'Saudi Arabia', 'Aviation Turbine Fuel', 43724.0), (2009, 'Saudi Arabia', 'Light Diesel Oil', 53123.0), (2009, 'Saudi Arabia', 'Furnace Oil', 455524.0), (2009, 'Saudi Arabia', 'LPG in MT', 20024.0), (2009, 'Saudi Arabia', 'Mineral Turpentine Oil', 71424.0), (2009, 'Isereal', 'Petrol', 57424.0), (2009, 'Isereal', 'Diesel', 61424.0), (2009, 'Isereal', 'Kerosene', 32424.0), (2009, 'Isereal', 'Aviation Turbine Fuel', 654242.0), (2009, 'Isereal', 'Light Diesel Oil', 727427.0), (2009, 'Isereal', 'Furnace Oil', 237812.0), (2009, 'Isereal', 'LPG in MT', 84243.0), (2009, 'Isereal', 'Mineral Turpentine Oil', 137024.0), (2009, 'USA', 'Petrol', 76123.0), (2009, 'USA', 'Diesel', 51008.0), (2009, 'USA', 'Kerosene', 32424.0), (2009, 'USA', 'Aviation Turbine Fuel', 214249.0), (2009, 'USA', 'Light Diesel Oil', 782424.0), (2009, 'USA', 'Furnace Oil', 465424.0), (2009, 'USA', 'LPG in MT', 237865.0), (2009, 'USA', 'Mineral Turpentine Oil', 232424.0), (2009, 'Russia', 'Petrol', 57844.0), (2009, 'Russia', 'Diesel', 33424.0), (2009, 'Russia', 'Kerosene', 823424.0), (2009, 'Russia', 'Aviation Turbine Fuel', 314246.0), (2009, 'Russia', 'Light Diesel Oil', 402024.0), (2009, 'Russia', 'Furnace Oil', 282424.0), (2009, 'Russia', 'LPG in MT', 98123.0), (2009, 'Russia', 'Mineral Turpentine Oil', 63424.0), (2008, 'Saudi Arabia', 'Petrol', 169474.0), (2008, 'Saudi Arabia', 'Diesel', 103724.0), (2008, 'Saudi Arabia', 'Kerosene', 298724.0), (2008, 'Saudi Arabia', 'Aviation Turbine Fuel', 871234.0), (2008, 'Saudi Arabia', 'Light Diesel Oil', 42356.0), (2008, 'Saudi Arabia', 'Furnace Oil', 129574.0), (2008, 'Saudi Arabia', 'LPG in MT', 19474.0), (2008, 'Saudi Arabia', 'Mineral Turpentine Oil', 121927.0), (2008, 'Isereal', 'Petrol', 31145.0), (2008, 'Isereal', 'Diesel', 33213.0), (2008, 'Isereal', 'Kerosene', 51209.0), (2008, 'Isereal', 'Aviation Turbine Fuel', 15922.0), (2008, 'Isereal', 'Light Diesel Oil', 329474.0), (2008, 'Isereal', 'Furnace Oil', 12355.0), (2008, 'Isereal', 'LPG in MT', 139872.0), (2008, 'Isereal', 'Mineral Turpentine Oil', 76123.0), (2008, 'USA', 'Petrol', 600189.0), (2008, 'USA', 'Diesel', 213927.0), (2008, 'USA', 'Kerosene', 119273.0), (2008, 'USA', 'Aviation Turbine Fuel', 123673.0), (2008, 'USA', 'Light Diesel Oil', 159474.0), (2008, 'USA', 'Furnace Oil', 342927.0), (2008, 'USA', 'LPG in MT', 125270.0), (2008, 'USA', 'Mineral Turpentine Oil', 130474.0), (2008, 'Russia', 'Petrol', 12375.0), (2008, 'Russia', 'Diesel', 243927.0), (2008, 'Russia', 'Kerosene', 332944.0), (2008, 'Russia', 'Aviation Turbine Fuel', 49087.0), (2008, 'Russia', 'Light Diesel Oil', 139474.0), (2008, 'Russia', 'Furnace Oil', 189474.0), (2008, 'Russia', 'LPG in MT', 17809.0), (2008, 'Russia', 'Mineral Turpentine Oil', 129474.0), (2007, 'Saudi Arabia', 'Petrol', 94732.0), (2007, 'Saudi Arabia', 'Diesel', 27232.0), (2007, 'Saudi Arabia', 'Kerosene', 987232.0), (2007, 'Saudi Arabia', 'Aviation Turbine Fuel', 123356.0), (2007, 'Saudi Arabia', 'Light Diesel Oil', 0.0), (2007, 'Saudi Arabia', 'Furnace Oil', 95732.0), (2007, 'Saudi Arabia', 'LPG in MT', 84732.0), (2007, 'Saudi Arabia', 'Mineral Turpentine Oil', 0.0), (2007, 'Isereal', 'Petrol', 43122.0), (2007, 'Isereal', 'Diesel', 12132.0), (2007, 'Isereal', 'Kerosene', 0.0), (2007, 'Isereal', 'Aviation Turbine Fuel', 59232.0), (2007, 'Isereal', 'Light Diesel Oil', 29472.0), (2007, 'Isereal', 'Furnace Oil', 43187.0), (2007, 'Isereal', 'LPG in MT', 0.0), (2007, 'Isereal', 'Mineral Turpentine Oil', 3612.0), (2007, 'USA', 'Petrol', 0.0), (2007, 'USA', 'Diesel', 13922.0), (2007, 'USA', 'Kerosene', 92701.0), (2007, 'USA', 'Aviation Turbine Fuel', 0.0), (2007, 'USA', 'Light Diesel Oil', 294732.0), (2007, 'USA', 'Furnace Oil', 129232.0), (2007, 'USA', 'LPG in MT', 527032.0), (2007, 'USA', 'Mineral Turpentine Oil', 0.0), (2007, 'Russia', 'Petrol', 22232.0), (2007, 'Russia', 'Diesel', 9232.0), (2007, 'Russia', 'Kerosene', 9432.0), (2007, 'Russia', 'Aviation Turbine Fuel', 0.0), (2007, 'Russia', 'Light Diesel Oil', 294732.0), (2007, 'Russia', 'Furnace Oil', 194732.0), (2007, 'Russia', 'LPG in MT', 29473.0), (2007, 'Russia', 'Mineral Turpentine Oil', 0.0)]\n"
     ]
    }
   ],
   "source": [
    "def _load_from_database():\n",
    "    cudata annotation toolsrsor.execute(\"\"\"\n",
    "        select year, country.country, petroleum_product.product_name, sales \n",
    "        from petroleum_sales \n",
    "        join petroleum_product on petroleum_product.id = petroleum_sales.product_id\n",
    "        join country on country.id = petroleum_sales.country_id\n",
    "        \"\"\")\n",
    "    return cursor.fetchall()\n",
    "\n",
    "print(_load_from_database())"
   ]
  },
  {
   "cell_type": "code",
   "execution_count": 15,
   "metadata": {
    "ExecuteTime": {
     "end_time": "2021-10-07T06:17:31.503765Z",
     "start_time": "2021-10-07T06:17:31.495350Z"
    }
   },
   "outputs": [
    {
     "name": "stdout",
     "output_type": "stream",
     "text": [
      "Total sales for each peroduct: \n",
      "\n",
      "Country     Total sales\n",
      "Kerosene 6056675.0\n",
      "\n",
      "Light Diesel Oil 5835117.0\n",
      "\n",
      "Aviation Turbine Fuel 5190359.0\n",
      "\n",
      "Furnace Oil 5068525.0\n",
      "\n",
      "Diesel 4944620.0\n",
      "\n",
      "Petrol 3862204.0\n",
      "\n",
      "LPG in MT 3388382.0\n",
      "\n",
      "Mineral Turpentine Oil 2374917.0\n",
      "\n"
     ]
    }
   ],
   "source": [
    "def _task_iii():\n",
    "    print(\"Total sales for each peroduct: \\n\")\n",
    "    cursor.execute(\n",
    "        \"\"\"\n",
    "        SELECT pp.product_name , sum(sales) total_sales \n",
    "        from petroleum_sales ps \n",
    "        join petroleum_product pp on pp.id  = ps.product_id \n",
    "        group by pp.product_name \n",
    "        order by sum(sales) desc\n",
    "        \"\"\"\n",
    "    )\n",
    "    result = cursor.fetchall()\n",
    "    print(\"Country     Total sales\")\n",
    "    for record in result:\n",
    "        print(record[0] + \" \" + str(record[1]) + '\\n')\n",
    "_task_iii()"
   ]
  },
  {
   "cell_type": "code",
   "execution_count": 122,
   "metadata": {
    "ExecuteTime": {
     "end_time": "2021-10-07T05:49:05.557770Z",
     "start_time": "2021-10-07T05:49:05.550692Z"
    }
   },
   "outputs": [
    {
     "name": "stdout",
     "output_type": "stream",
     "text": [
      "Top 3 countries that have the lowest sales: \n",
      "g\n",
      "Country     Total sales\n",
      "Isereal 7838552.0\n",
      "\n",
      "USA 8673936.0\n",
      "\n",
      "Russia 9461637.0\n",
      "\n"
     ]
    }
   ],
   "source": [
    "def _task_iv():\n",
    "    print(\"Top 3 countries that have the lowest sales: \\ng\")\n",
    "    cursor.execute(\n",
    "        \"\"\"\n",
    "        select country.country, sum(sales) total_sales\n",
    "        from petroleum_sales ps \n",
    "        join country on country.id = ps.country_id \n",
    "        group by 1\n",
    "        order by 2 ASC\n",
    "        limit 3\n",
    "        \"\"\"\n",
    "    )\n",
    "    result = cursor.fetchall()\n",
    "    print(\"Country     Total sales\")\n",
    "    for record in result:\n",
    "        print(record[0] + \" \" + str(record[1]) + '\\n')\n",
    "        \n",
    "_task_iv()"
   ]
  },
  {
   "cell_type": "code",
   "execution_count": 14,
   "metadata": {
    "ExecuteTime": {
     "end_time": "2021-10-07T06:17:24.486271Z",
     "start_time": "2021-10-07T06:17:24.479586Z"
    }
   },
   "outputs": [
    {
     "name": "stdout",
     "output_type": "stream",
     "text": [
      "[(2014, 'Petrol', 283567.0), (2014, 'Diesel', 901393.0), (2014, 'Kerosene', 18628.0), (2014, 'Aviation Turbine Fuel', 139404.0), (2014, 'Light Diesel Oil', 0.0), (2014, 'Furnace Oil', 0.0), (2014, 'LPG in MT', 258299.0), (2014, 'Mineral Turpentine Oil', 0.0), (2014, 'Petrol', 183567.0), (2014, 'Diesel', 201393.0), (2014, 'Kerosene', 38628.0), (2014, 'Aviation Turbine Fuel', 0.0), (2014, 'Light Diesel Oil', 144677.0), (2014, 'Furnace Oil', 443673.0), (2014, 'LPG in MT', 0.0), (2014, 'Mineral Turpentine Oil', 0.0), (2014, 'Petrol', 483567.0), (2014, 'Diesel', 101393.0), (2014, 'Kerosene', 0.0), (2014, 'Aviation Turbine Fuel', 12628.0), (2014, 'Light Diesel Oil', 144657.0), (2014, 'Furnace Oil', 0.0), (2014, 'LPG in MT', 143273.0), (2014, 'Mineral Turpentine Oil', 0.0), (2014, 'Petrol', 0.0), (2014, 'Diesel', 151393.0), (2014, 'Kerosene', 454393.0), (2014, 'Aviation Turbine Fuel', 32628.0), (2014, 'Light Diesel Oil', 0.0), (2014, 'Furnace Oil', 0.0), (2014, 'LPG in MT', 0.0), (2014, 'Mineral Turpentine Oil', 401394.0), (2013, 'Petrol', 123562.0), (2013, 'Diesel', 701393.0), (2013, 'Kerosene', 28628.0), (2013, 'Aviation Turbine Fuel', 239404.0), (2013, 'Light Diesel Oil', 1000.0), (2013, 'Furnace Oil', 0.0), (2013, 'LPG in MT', 158299.0), (2013, 'Mineral Turpentine Oil', 0.0), (2013, 'Petrol', 0.0), (2013, 'Diesel', 401493.0), (2013, 'Kerosene', 0.0), (2013, 'Aviation Turbine Fuel', 28614.0), (2013, 'Light Diesel Oil', 184677.0), (2013, 'Furnace Oil', 243673.0), (2013, 'LPG in MT', 0.0), (2013, 'Mineral Turpentine Oil', 12347.0), (2013, 'Petrol', 0.0), (2013, 'Diesel', 201493.0), (2013, 'Kerosene', 0.0), (2013, 'Aviation Turbine Fuel', 12658.0), (2013, 'Light Diesel Oil', 0.0), (2013, 'Furnace Oil', 45623.0), (2013, 'LPG in MT', 243273.0), (2013, 'Mineral Turpentine Oil', 0.0), (2013, 'Petrol', 65321.0), (2013, 'Diesel', 251393.0), (2013, 'Kerosene', 354393.0), (2013, 'Aviation Turbine Fuel', 52628.0), (2013, 'Light Diesel Oil', 23415.0), (2013, 'Furnace Oil', 0.0), (2013, 'LPG in MT', 0.0), (2013, 'Mineral Turpentine Oil', 101394.0), (2012, 'Petrol', 13562.0), (2012, 'Diesel', 201393.0), (2012, 'Kerosene', 128628.0), (2012, 'Aviation Turbine Fuel', 439404.0), (2012, 'Light Diesel Oil', 101230.0), (2012, 'Furnace Oil', 0.0), (2012, 'LPG in MT', 0.0), (2012, 'Mineral Turpentine Oil', 41244.0), (2012, 'Petrol', 53214.0), (2012, 'Diesel', 101493.0), (2012, 'Kerosene', 76523.0), (2012, 'Aviation Turbine Fuel', 0.0), (2012, 'Light Diesel Oil', 384677.0), (2012, 'Furnace Oil', 143673.0), (2012, 'LPG in MT', 0.0), (2012, 'Mineral Turpentine Oil', 132347.0), (2012, 'Petrol', 13478.0), (2012, 'Diesel', 10873.0), (2012, 'Kerosene', 0.0), (2012, 'Aviation Turbine Fuel', 0.0), (2012, 'Light Diesel Oil', 53134.0), (2012, 'Furnace Oil', 45627.0), (2012, 'LPG in MT', 0.0), (2012, 'Mineral Turpentine Oil', 23273.0), (2012, 'Petrol', 35321.0), (2012, 'Diesel', 151393.0), (2012, 'Kerosene', 454393.0), (2012, 'Aviation Turbine Fuel', 0.0), (2012, 'Light Diesel Oil', 13415.0), (2012, 'Furnace Oil', 44312.0), (2012, 'LPG in MT', 0.0), (2012, 'Mineral Turpentine Oil', 0.0), (2011, 'Petrol', 13782.0), (2011, 'Diesel', 207823.0), (2011, 'Kerosene', 127828.0), (2011, 'Aviation Turbine Fuel', 437824.0), (2011, 'Light Diesel Oil', 107820.0), (2011, 'Furnace Oil', 0.0), (2011, 'LPG in MT', 18233.0), (2011, 'Mineral Turpentine Oil', 41782.0), (2011, 'Petrol', 53782.0), (2011, 'Diesel', 107823.0), (2011, 'Kerosene', 0.0), (2011, 'Aviation Turbine Fuel', 36782.0), (2011, 'Light Diesel Oil', 187827.0), (2011, 'Furnace Oil', 147823.0), (2011, 'LPG in MT', 0.0), (2011, 'Mineral Turpentine Oil', 137827.0), (2011, 'Petrol', 13782.0), (2011, 'Diesel', 10782.0), (2011, 'Kerosene', 0.0), (2011, 'Aviation Turbine Fuel', 78233.0), (2011, 'Light Diesel Oil', 53782.0), (2011, 'Furnace Oil', 45782.0), (2011, 'LPG in MT', 0.0), (2011, 'Mineral Turpentine Oil', 23782.0), (2011, 'Petrol', 35782.0), (2011, 'Diesel', 157823.0), (2011, 'Kerosene', 457823.0), (2011, 'Aviation Turbine Fuel', 0.0), (2011, 'Light Diesel Oil', 13782.0), (2011, 'Furnace Oil', 44782.0), (2011, 'LPG in MT', 18245.0), (2011, 'Mineral Turpentine Oil', 0.0), (2010, 'Petrol', 32642.0), (2010, 'Diesel', 23642.0), (2010, 'Kerosene', 128642.0), (2010, 'Aviation Turbine Fuel', 478242.0), (2010, 'Light Diesel Oil', 178264.0), (2010, 'Furnace Oil', 49876.0), (2010, 'LPG in MT', 823642.0), (2010, 'Mineral Turpentine Oil', 0.0), (2010, 'Petrol', 537826.0), (2010, 'Diesel', 0.0), (2010, 'Kerosene', 32642.0), (2010, 'Aviation Turbine Fuel', 656422.0), (2010, 'Light Diesel Oil', 72764.0), (2010, 'Furnace Oil', 0.0), (2010, 'LPG in MT', 82423.0), (2010, 'Mineral Turpentine Oil', 137852.0), (2010, 'Petrol', 444123.0), (2010, 'Diesel', 0.0), (2010, 'Kerosene', 23673.0), (2010, 'Aviation Turbine Fuel', 0.0), (2010, 'Light Diesel Oil', 782642.0), (2010, 'Furnace Oil', 452642.0), (2010, 'LPG in MT', 12354.0), (2010, 'Mineral Turpentine Oil', 232642.0), (2010, 'Petrol', 178242.0), (2010, 'Diesel', 33642.0), (2010, 'Kerosene', 823642.0), (2010, 'Aviation Turbine Fuel', 76523.0), (2010, 'Light Diesel Oil', 132642.0), (2010, 'Furnace Oil', 782642.0), (2010, 'LPG in MT', 246424.0), (2010, 'Mineral Turpentine Oil', 123127.0), (2009, 'Petrol', 132424.0), (2009, 'Diesel', 223424.0), (2009, 'Kerosene', 128424.0), (2009, 'Aviation Turbine Fuel', 43724.0), (2009, 'Light Diesel Oil', 53123.0), (2009, 'Furnace Oil', 455524.0), (2009, 'LPG in MT', 20024.0), (2009, 'Mineral Turpentine Oil', 71424.0), (2009, 'Petrol', 57424.0), (2009, 'Diesel', 61424.0), (2009, 'Kerosene', 32424.0), (2009, 'Aviation Turbine Fuel', 654242.0), (2009, 'Light Diesel Oil', 727427.0), (2009, 'Furnace Oil', 237812.0), (2009, 'LPG in MT', 84243.0), (2009, 'Mineral Turpentine Oil', 137024.0), (2009, 'Petrol', 76123.0), (2009, 'Diesel', 51008.0), (2009, 'Kerosene', 32424.0), (2009, 'Aviation Turbine Fuel', 214249.0), (2009, 'Light Diesel Oil', 782424.0), (2009, 'Furnace Oil', 465424.0), (2009, 'LPG in MT', 237865.0), (2009, 'Mineral Turpentine Oil', 232424.0), (2009, 'Petrol', 57844.0), (2009, 'Diesel', 33424.0), (2009, 'Kerosene', 823424.0), (2009, 'Aviation Turbine Fuel', 314246.0), (2009, 'Light Diesel Oil', 402024.0), (2009, 'Furnace Oil', 282424.0), (2009, 'LPG in MT', 98123.0), (2009, 'Mineral Turpentine Oil', 63424.0), (2008, 'Petrol', 169474.0), (2008, 'Diesel', 103724.0), (2008, 'Kerosene', 298724.0), (2008, 'Aviation Turbine Fuel', 871234.0), (2008, 'Light Diesel Oil', 42356.0), (2008, 'Furnace Oil', 129574.0), (2008, 'LPG in MT', 19474.0), (2008, 'Mineral Turpentine Oil', 121927.0), (2008, 'Petrol', 31145.0), (2008, 'Diesel', 33213.0), (2008, 'Kerosene', 51209.0), (2008, 'Aviation Turbine Fuel', 15922.0), (2008, 'Light Diesel Oil', 329474.0), (2008, 'Furnace Oil', 12355.0), (2008, 'LPG in MT', 139872.0), (2008, 'Mineral Turpentine Oil', 76123.0), (2008, 'Petrol', 600189.0), (2008, 'Diesel', 213927.0), (2008, 'Kerosene', 119273.0), (2008, 'Aviation Turbine Fuel', 123673.0), (2008, 'Light Diesel Oil', 159474.0), (2008, 'Furnace Oil', 342927.0), (2008, 'LPG in MT', 125270.0), (2008, 'Mineral Turpentine Oil', 130474.0), (2008, 'Petrol', 12375.0), (2008, 'Diesel', 243927.0), (2008, 'Kerosene', 332944.0), (2008, 'Aviation Turbine Fuel', 49087.0), (2008, 'Light Diesel Oil', 139474.0), (2008, 'Furnace Oil', 189474.0), (2008, 'LPG in MT', 17809.0), (2008, 'Mineral Turpentine Oil', 129474.0), (2007, 'Petrol', 94732.0), (2007, 'Diesel', 27232.0), (2007, 'Kerosene', 987232.0), (2007, 'Aviation Turbine Fuel', 123356.0), (2007, 'Light Diesel Oil', 0.0), (2007, 'Furnace Oil', 95732.0), (2007, 'LPG in MT', 84732.0), (2007, 'Mineral Turpentine Oil', 0.0), (2007, 'Petrol', 43122.0), (2007, 'Diesel', 12132.0), (2007, 'Kerosene', 0.0), (2007, 'Aviation Turbine Fuel', 59232.0), (2007, 'Light Diesel Oil', 29472.0), (2007, 'Furnace Oil', 43187.0), (2007, 'LPG in MT', 0.0), (2007, 'Mineral Turpentine Oil', 3612.0), (2007, 'Petrol', 0.0), (2007, 'Diesel', 13922.0), (2007, 'Kerosene', 92701.0), (2007, 'Aviation Turbine Fuel', 0.0), (2007, 'Light Diesel Oil', 294732.0), (2007, 'Furnace Oil', 129232.0), (2007, 'LPG in MT', 527032.0), (2007, 'Mineral Turpentine Oil', 0.0), (2007, 'Petrol', 22232.0), (2007, 'Diesel', 9232.0), (2007, 'Kerosene', 9432.0), (2007, 'Aviation Turbine Fuel', 0.0), (2007, 'Light Diesel Oil', 294732.0), (2007, 'Furnace Oil', 194732.0), (2007, 'LPG in MT', 29473.0), (2007, 'Mineral Turpentine Oil', 0.0)]\n"
     ]
    }
   ],
   "source": [
    "def _task_v():\n",
    "    cursor.execute(\n",
    "        \"\"\"\n",
    "        select year, petroleum_product.product_name, sales \n",
    "        from petroleum_sales \n",
    "        join petroleum_product on petroleum_product.id = petroleum_sales.product_id\n",
    "\n",
    "        \"\"\"\n",
    "    )\n",
    "    res = cursor.fetchall()\n",
    "    print(res)\n",
    "\n",
    "_task_v()"
   ]
  },
  {
   "cell_type": "code",
   "execution_count": 19,
   "metadata": {
    "ExecuteTime": {
     "end_time": "2021-10-07T06:17:58.909345Z",
     "start_time": "2021-10-07T06:17:58.898230Z"
    }
   },
   "outputs": [
    {
     "name": "stdout",
     "output_type": "stream",
     "text": [
      "[2007, 2008, 2009, 2010, 2011, 2012, 2013, 2014]\n",
      "defaultdict(<class 'list'>, {'Petrol': [94732.0, 43122.0, 22232.0], 'Diesel': [27232.0, 12132.0, 13922.0, 9232.0], 'Kerosene': [987232.0, 92701.0, 9432.0], 'Aviation Turbine Fuel': [123356.0, 59232.0], 'Furnace Oil': [95732.0, 43187.0, 129232.0, 194732.0], 'LPG in MT': [84732.0, 527032.0, 29473.0], 'Light Diesel Oil': [29472.0, 294732.0, 294732.0], 'Mineral Turpentine Oil': [3612.0]})\n"
     ]
    }
   ],
   "source": [
    "cursor.execute(\n",
    "        \"\"\"\n",
    "        select year, petroleum_product.product_name, sales \n",
    "        from petroleum_sales \n",
    "        join petroleum_product on petroleum_product.id = petroleum_sales.product_id\n",
    "\n",
    "        \"\"\"\n",
    "    )\n",
    "res = cursor.fetchall()\n",
    "\n",
    "initial_year = sorted(set([x[0] for x in res]))\n",
    "print(initial_year) \n",
    "\n",
    "input_dict = defaultdict(lambda:defaultdict(list))\n",
    "output_dict = defaultdict(lambda:defaultdict(list))\n",
    "\n",
    "for x in res:\n",
    "    if x[2] != 0:\n",
    "        input_dict[x[0]][x[1]].append(x[2])\n",
    "        \n",
    "    \n",
    "\n",
    "print(input_dict[2007])"
   ]
  },
  {
   "cell_type": "code",
   "execution_count": 23,
   "metadata": {
    "ExecuteTime": {
     "end_time": "2021-10-07T07:53:15.291569Z",
     "start_time": "2021-10-07T07:53:15.271617Z"
    }
   },
   "outputs": [
    {
     "name": "stdout",
     "output_type": "stream",
     "text": [
      "(2007, 2008, 2009, 2010)\n",
      "(2011, 2012, 2013, 2014)\n"
     ]
    }
   ],
   "source": [
    "l=[2007, 2008, 2009, 2010, 2011, 2012, 2013, 2014]\n",
    "\n",
    "def grouper(chunk_size, iterable):\n",
    "    it = iter(iterable)\n",
    "    while True:\n",
    "        group = tuple(islice(it, None, chunk_size))\n",
    "        if not group:\n",
    "            break\n",
    "        yield group\n",
    "for i in grouper(4,l):\n",
    "    print(i)"
   ]
  },
  {
   "cell_type": "code",
   "execution_count": 20,
   "metadata": {
    "ExecuteTime": {
     "end_time": "2021-10-07T06:18:05.029538Z",
     "start_time": "2021-10-07T06:18:05.010958Z"
    }
   },
   "outputs": [
    {
     "data": {
      "text/plain": [
       "defaultdict(list,\n",
       "            {'Petrol': [94732.0, 43122.0, 22232.0],\n",
       "             'Diesel': [27232.0, 12132.0, 13922.0, 9232.0],\n",
       "             'Kerosene': [987232.0, 92701.0, 9432.0],\n",
       "             'Aviation Turbine Fuel': [123356.0, 59232.0],\n",
       "             'Furnace Oil': [95732.0, 43187.0, 129232.0, 194732.0],\n",
       "             'LPG in MT': [84732.0, 527032.0, 29473.0],\n",
       "             'Light Diesel Oil': [29472.0, 294732.0, 294732.0],\n",
       "             'Mineral Turpentine Oil': [3612.0]})"
      ]
     },
     "execution_count": 20,
     "metadata": {},
     "output_type": "execute_result"
    }
   ],
   "source": [
    "input_dict[2007]"
   ]
  },
  {
   "cell_type": "code",
   "execution_count": 21,
   "metadata": {
    "ExecuteTime": {
     "end_time": "2021-10-07T06:18:12.359168Z",
     "start_time": "2021-10-07T06:18:12.347481Z"
    },
    "scrolled": true
   },
   "outputs": [
    {
     "name": "stdout",
     "output_type": "stream",
     "text": [
      "defaultdict(<class 'list'>, {'Petrol': [94732.0, 43122.0, 22232.0, 169474.0, 31145.0, 600189.0, 12375.0, 132424.0, 57424.0, 76123.0, 57844.0, 32642.0, 537826.0, 444123.0, 178242.0], 'Diesel': [27232.0, 12132.0, 13922.0, 9232.0, 103724.0, 33213.0, 213927.0, 243927.0, 223424.0, 61424.0, 51008.0, 33424.0, 23642.0, 33642.0], 'Kerosene': [987232.0, 92701.0, 9432.0, 298724.0, 51209.0, 119273.0, 332944.0, 128424.0, 32424.0, 32424.0, 823424.0, 128642.0, 32642.0, 23673.0, 823642.0], 'Aviation Turbine Fuel': [123356.0, 59232.0, 871234.0, 15922.0, 123673.0, 49087.0, 43724.0, 654242.0, 214249.0, 314246.0, 478242.0, 656422.0, 76523.0], 'Furnace Oil': [95732.0, 43187.0, 129232.0, 194732.0, 129574.0, 12355.0, 342927.0, 189474.0, 455524.0, 237812.0, 465424.0, 282424.0, 49876.0, 452642.0, 782642.0], 'LPG in MT': [84732.0, 527032.0, 29473.0, 19474.0, 139872.0, 125270.0, 17809.0, 20024.0, 84243.0, 237865.0, 98123.0, 823642.0, 82423.0, 12354.0, 246424.0], 'Light Diesel Oil': [29472.0, 294732.0, 294732.0, 42356.0, 329474.0, 159474.0, 139474.0, 53123.0, 727427.0, 782424.0, 402024.0, 178264.0, 72764.0, 782642.0, 132642.0], 'Mineral Turpentine Oil': [3612.0, 121927.0, 76123.0, 130474.0, 129474.0, 71424.0, 137024.0, 232424.0, 63424.0, 137852.0, 232642.0, 123127.0]})\n",
      "defaultdict(<class 'list'>, {'Petrol': [94732.0, 43122.0, 22232.0, 169474.0, 31145.0, 600189.0, 12375.0, 132424.0, 57424.0, 76123.0, 57844.0, 32642.0, 537826.0, 444123.0, 178242.0], 'Diesel': [27232.0, 12132.0, 13922.0, 9232.0, 103724.0, 33213.0, 213927.0, 243927.0, 223424.0, 61424.0, 51008.0, 33424.0, 23642.0, 33642.0], 'Kerosene': [987232.0, 92701.0, 9432.0, 298724.0, 51209.0, 119273.0, 332944.0, 128424.0, 32424.0, 32424.0, 823424.0, 128642.0, 32642.0, 23673.0, 823642.0], 'Aviation Turbine Fuel': [123356.0, 59232.0, 871234.0, 15922.0, 123673.0, 49087.0, 43724.0, 654242.0, 214249.0, 314246.0, 478242.0, 656422.0, 76523.0], 'Furnace Oil': [95732.0, 43187.0, 129232.0, 194732.0, 129574.0, 12355.0, 342927.0, 189474.0, 455524.0, 237812.0, 465424.0, 282424.0, 49876.0, 452642.0, 782642.0], 'LPG in MT': [84732.0, 527032.0, 29473.0, 19474.0, 139872.0, 125270.0, 17809.0, 20024.0, 84243.0, 237865.0, 98123.0, 823642.0, 82423.0, 12354.0, 246424.0], 'Light Diesel Oil': [29472.0, 294732.0, 294732.0, 42356.0, 329474.0, 159474.0, 139474.0, 53123.0, 727427.0, 782424.0, 402024.0, 178264.0, 72764.0, 782642.0, 132642.0], 'Mineral Turpentine Oil': [3612.0, 121927.0, 76123.0, 130474.0, 129474.0, 71424.0, 137024.0, 232424.0, 63424.0, 137852.0, 232642.0, 123127.0]})\n",
      "year       product            avg\n",
      "2007-2011  Petrol   165994.46666666667\n",
      "2007-2011  Diesel   77419.5\n",
      "2007-2011  Kerosene   261120.66666666666\n",
      "2007-2011  Aviation Turbine Fuel   283088.6153846154\n",
      "2007-2011  Furnace Oil   257570.46666666667\n",
      "2007-2011  LPG in MT   169917.33333333334\n",
      "2007-2011  Light Diesel Oil   294734.93333333335\n",
      "2007-2011  Mineral Turpentine Oil   121627.25\n",
      "\n",
      "2011-2015  Petrol   105560.53846153847\n",
      "2011-2015  Diesel   241296.6875\n",
      "2011-2015  Kerosene   213986.5\n",
      "2011-2015  Aviation Turbine Fuel   137291.54545454544\n",
      "2011-2015  Light Diesel Oil   108776.38461538461\n",
      "2011-2015  LPG in MT   139937.0\n",
      "2011-2015  Mineral Turpentine Oil   101710.0\n",
      "2011-2015  Furnace Oil   133885.33333333334\n",
      "\n"
     ]
    }
   ],
   "source": [
    "for years in grouper(4,l):\n",
    "    first_year = years[0]\n",
    "    for single_year in years:\n",
    "        for product,value in input_dict[single_year].items():\n",
    "            if value != 0:\n",
    "                output_dict[first_year][product].extend(value)\n",
    "    print(output_dict[2007])\n",
    "    formatted_string = \"\"\"year       product            avg\"\"\"\n",
    "    for year, product_dict in output_dict.items():\n",
    "        formatted_string += \"\\n\"\n",
    "        for product, sales_list in product_dict.items():\n",
    "            average_sales = sum(sales_list) / len(sales_list)\n",
    "            formatted_string += str(year) + '-' + str(year + 4) + '  ' + product + '   ' + str(average_sales) + '\\n'\n",
    "print(formatted_string)\n",
    "\n"
   ]
  },
  {
   "cell_type": "code",
   "execution_count": 22,
   "metadata": {
    "ExecuteTime": {
     "end_time": "2021-10-07T07:45:46.478950Z",
     "start_time": "2021-10-07T07:45:46.473768Z"
    }
   },
   "outputs": [
    {
     "name": "stdout",
     "output_type": "stream",
     "text": [
      "[{'year': '2014', 'petroleum_product': 'Petrol', 'sale': 283567, 'country': 'Saudi Arabia'}, {'year': '2014', 'petroleum_product': 'Diesel', 'sale': 901393, 'country': 'Saudi Arabia'}, {'year': '2014', 'petroleum_product': 'Kerosene', 'sale': 18628, 'country': 'Saudi Arabia'}, {'year': '2014', 'petroleum_product': 'Aviation Turbine Fuel', 'sale': 139404, 'country': 'Saudi Arabia'}, {'year': '2014', 'petroleum_product': 'Light Diesel Oil', 'sale': 0, 'country': 'Saudi Arabia'}, {'year': '2014', 'petroleum_product': 'Furnace Oil', 'sale': 0, 'country': 'Saudi Arabia'}, {'year': '2014', 'petroleum_product': 'LPG in MT', 'sale': 258299, 'country': 'Saudi Arabia'}, {'year': '2014', 'petroleum_product': 'Mineral Turpentine Oil', 'sale': 0, 'country': 'Saudi Arabia'}, {'year': '2014', 'petroleum_product': 'Petrol', 'sale': 183567, 'country': 'Isereal'}, {'year': '2014', 'petroleum_product': 'Diesel', 'sale': 201393, 'country': 'Isereal'}, {'year': '2014', 'petroleum_product': 'Kerosene', 'sale': 38628, 'country': 'Isereal'}, {'year': '2014', 'petroleum_product': 'Aviation Turbine Fuel', 'sale': 0, 'country': 'Isereal'}, {'year': '2014', 'petroleum_product': 'Light Diesel Oil', 'sale': 144677, 'country': 'Isereal'}, {'year': '2014', 'petroleum_product': 'Furnace Oil', 'sale': 443673, 'country': 'Isereal'}, {'year': '2014', 'petroleum_product': 'LPG in MT', 'sale': 0, 'country': 'Isereal'}, {'year': '2014', 'petroleum_product': 'Mineral Turpentine Oil', 'sale': 0, 'country': 'Isereal'}, {'year': '2014', 'petroleum_product': 'Petrol', 'sale': 483567, 'country': 'USA'}, {'year': '2014', 'petroleum_product': 'Diesel', 'sale': 101393, 'country': 'USA'}, {'year': '2014', 'petroleum_product': 'Kerosene', 'sale': 0, 'country': 'USA'}, {'year': '2014', 'petroleum_product': 'Aviation Turbine Fuel', 'sale': 12628, 'country': 'USA'}, {'year': '2014', 'petroleum_product': 'Light Diesel Oil', 'sale': 144657, 'country': 'USA'}, {'year': '2014', 'petroleum_product': 'Furnace Oil', 'sale': 0, 'country': 'USA'}, {'year': '2014', 'petroleum_product': 'LPG in MT', 'sale': 143273, 'country': 'USA'}, {'year': '2014', 'petroleum_product': 'Mineral Turpentine Oil', 'sale': 0, 'country': 'USA'}, {'year': '2014', 'petroleum_product': 'Petrol', 'sale': 0, 'country': 'Russia'}, {'year': '2014', 'petroleum_product': 'Diesel', 'sale': 151393, 'country': 'Russia'}, {'year': '2014', 'petroleum_product': 'Kerosene', 'sale': 454393, 'country': 'Russia'}, {'year': '2014', 'petroleum_product': 'Aviation Turbine Fuel', 'sale': 32628, 'country': 'Russia'}, {'year': '2014', 'petroleum_product': 'Light Diesel Oil', 'sale': 0, 'country': 'Russia'}, {'year': '2014', 'petroleum_product': 'Furnace Oil', 'sale': 0, 'country': 'Russia'}, {'year': '2014', 'petroleum_product': 'LPG in MT', 'sale': 0, 'country': 'Russia'}, {'year': '2014', 'petroleum_product': 'Mineral Turpentine Oil', 'sale': 401394, 'country': 'Russia'}, {'year': '2013', 'petroleum_product': 'Petrol', 'sale': 123562, 'country': 'Saudi Arabia'}, {'year': '2013', 'petroleum_product': 'Diesel', 'sale': 701393, 'country': 'Saudi Arabia'}, {'year': '2013', 'petroleum_product': 'Kerosene', 'sale': 28628, 'country': 'Saudi Arabia'}, {'year': '2013', 'petroleum_product': 'Aviation Turbine Fuel', 'sale': 239404, 'country': 'Saudi Arabia'}, {'year': '2013', 'petroleum_product': 'Light Diesel Oil', 'sale': 1000, 'country': 'Saudi Arabia'}, {'year': '2013', 'petroleum_product': 'Furnace Oil', 'sale': 0, 'country': 'Saudi Arabia'}, {'year': '2013', 'petroleum_product': 'LPG in MT', 'sale': 158299, 'country': 'Saudi Arabia'}, {'year': '2013', 'petroleum_product': 'Mineral Turpentine Oil', 'sale': 0, 'country': 'Saudi Arabia'}, {'year': '2013', 'petroleum_product': 'Petrol', 'sale': 0, 'country': 'Isereal'}, {'year': '2013', 'petroleum_product': 'Diesel', 'sale': 401493, 'country': 'Isereal'}, {'year': '2013', 'petroleum_product': 'Kerosene', 'sale': 0, 'country': 'Isereal'}, {'year': '2013', 'petroleum_product': 'Aviation Turbine Fuel', 'sale': 28614, 'country': 'Isereal'}, {'year': '2013', 'petroleum_product': 'Light Diesel Oil', 'sale': 184677, 'country': 'Isereal'}, {'year': '2013', 'petroleum_product': 'Furnace Oil', 'sale': 243673, 'country': 'Isereal'}, {'year': '2013', 'petroleum_product': 'LPG in MT', 'sale': 0, 'country': 'Isereal'}, {'year': '2013', 'petroleum_product': 'Mineral Turpentine Oil', 'sale': 12347, 'country': 'Isereal'}, {'year': '2013', 'petroleum_product': 'Petrol', 'sale': 0, 'country': 'USA'}, {'year': '2013', 'petroleum_product': 'Diesel', 'sale': 201493, 'country': 'USA'}, {'year': '2013', 'petroleum_product': 'Kerosene', 'sale': 0, 'country': 'USA'}, {'year': '2013', 'petroleum_product': 'Aviation Turbine Fuel', 'sale': 12658, 'country': 'USA'}, {'year': '2013', 'petroleum_product': 'Light Diesel Oil', 'sale': 0, 'country': 'USA'}, {'year': '2013', 'petroleum_product': 'Furnace Oil', 'sale': 45623, 'country': 'USA'}, {'year': '2013', 'petroleum_product': 'LPG in MT', 'sale': 243273, 'country': 'USA'}, {'year': '2013', 'petroleum_product': 'Mineral Turpentine Oil', 'sale': 0, 'country': 'USA'}, {'year': '2013', 'petroleum_product': 'Petrol', 'sale': 65321, 'country': 'Russia'}, {'year': '2013', 'petroleum_product': 'Diesel', 'sale': 251393, 'country': 'Russia'}, {'year': '2013', 'petroleum_product': 'Kerosene', 'sale': 354393, 'country': 'Russia'}, {'year': '2013', 'petroleum_product': 'Aviation Turbine Fuel', 'sale': 52628, 'country': 'Russia'}, {'year': '2013', 'petroleum_product': 'Light Diesel Oil', 'sale': 23415, 'country': 'Russia'}, {'year': '2013', 'petroleum_product': 'Furnace Oil', 'sale': 0, 'country': 'Russia'}, {'year': '2013', 'petroleum_product': 'LPG in MT', 'sale': 0, 'country': 'Russia'}, {'year': '2013', 'petroleum_product': 'Mineral Turpentine Oil', 'sale': 101394, 'country': 'Russia'}, {'year': '2012', 'petroleum_product': 'Petrol', 'sale': 13562, 'country': 'Saudi Arabia'}, {'year': '2012', 'petroleum_product': 'Diesel', 'sale': 201393, 'country': 'Saudi Arabia'}, {'year': '2012', 'petroleum_product': 'Kerosene', 'sale': 128628, 'country': 'Saudi Arabia'}, {'year': '2012', 'petroleum_product': 'Aviation Turbine Fuel', 'sale': 439404, 'country': 'Saudi Arabia'}, {'year': '2012', 'petroleum_product': 'Light Diesel Oil', 'sale': 101230, 'country': 'Saudi Arabia'}, {'year': '2012', 'petroleum_product': 'Furnace Oil', 'sale': 0, 'country': 'Saudi Arabia'}, {'year': '2012', 'petroleum_product': 'LPG in MT', 'sale': 0, 'country': 'Saudi Arabia'}, {'year': '2012', 'petroleum_product': 'Mineral Turpentine Oil', 'sale': 41244, 'country': 'Saudi Arabia'}, {'year': '2012', 'petroleum_product': 'Petrol', 'sale': 53214, 'country': 'Isereal'}, {'year': '2012', 'petroleum_product': 'Diesel', 'sale': 101493, 'country': 'Isereal'}, {'year': '2012', 'petroleum_product': 'Kerosene', 'sale': 76523, 'country': 'Isereal'}, {'year': '2012', 'petroleum_product': 'Aviation Turbine Fuel', 'sale': 0, 'country': 'Isereal'}, {'year': '2012', 'petroleum_product': 'Light Diesel Oil', 'sale': 384677, 'country': 'Isereal'}, {'year': '2012', 'petroleum_product': 'Furnace Oil', 'sale': 143673, 'country': 'Isereal'}, {'year': '2012', 'petroleum_product': 'LPG in MT', 'sale': 0, 'country': 'Isereal'}, {'year': '2012', 'petroleum_product': 'Mineral Turpentine Oil', 'sale': 132347, 'country': 'Isereal'}, {'year': '2012', 'petroleum_product': 'Petrol', 'sale': 13478, 'country': 'USA'}, {'year': '2012', 'petroleum_product': 'Diesel', 'sale': 10873, 'country': 'USA'}, {'year': '2012', 'petroleum_product': 'Kerosene', 'sale': 0, 'country': 'USA'}, {'year': '2012', 'petroleum_product': 'Aviation Turbine Fuel', 'sale': 0, 'country': 'USA'}, {'year': '2012', 'petroleum_product': 'Light Diesel Oil', 'sale': 53134, 'country': 'USA'}, {'year': '2012', 'petroleum_product': 'Furnace Oil', 'sale': 45627, 'country': 'USA'}, {'year': '2012', 'petroleum_product': 'LPG in MT', 'sale': 0, 'country': 'USA'}, {'year': '2012', 'petroleum_product': 'Mineral Turpentine Oil', 'sale': 23273, 'country': 'USA'}, {'year': '2012', 'petroleum_product': 'Petrol', 'sale': 35321, 'country': 'Russia'}, {'year': '2012', 'petroleum_product': 'Diesel', 'sale': 151393, 'country': 'Russia'}, {'year': '2012', 'petroleum_product': 'Kerosene', 'sale': 454393, 'country': 'Russia'}, {'year': '2012', 'petroleum_product': 'Aviation Turbine Fuel', 'sale': 0, 'country': 'Russia'}, {'year': '2012', 'petroleum_product': 'Light Diesel Oil', 'sale': 13415, 'country': 'Russia'}, {'year': '2012', 'petroleum_product': 'Furnace Oil', 'sale': 44312, 'country': 'Russia'}, {'year': '2012', 'petroleum_product': 'LPG in MT', 'sale': 0, 'country': 'Russia'}, {'year': '2012', 'petroleum_product': 'Mineral Turpentine Oil', 'sale': 0, 'country': 'Russia'}, {'year': '2011', 'petroleum_product': 'Petrol', 'sale': 13782, 'country': 'Saudi Arabia'}, {'year': '2011', 'petroleum_product': 'Diesel', 'sale': 207823, 'country': 'Saudi Arabia'}, {'year': '2011', 'petroleum_product': 'Kerosene', 'sale': 127828, 'country': 'Saudi Arabia'}, {'year': '2011', 'petroleum_product': 'Aviation Turbine Fuel', 'sale': 437824, 'country': 'Saudi Arabia'}, {'year': '2011', 'petroleum_product': 'Light Diesel Oil', 'sale': 107820, 'country': 'Saudi Arabia'}, {'year': '2011', 'petroleum_product': 'Furnace Oil', 'sale': 0, 'country': 'Saudi Arabia'}, {'year': '2011', 'petroleum_product': 'LPG in MT', 'sale': 18233, 'country': 'Saudi Arabia'}, {'year': '2011', 'petroleum_product': 'Mineral Turpentine Oil', 'sale': 41782, 'country': 'Saudi Arabia'}, {'year': '2011', 'petroleum_product': 'Petrol', 'sale': 53782, 'country': 'Isereal'}, {'year': '2011', 'petroleum_product': 'Diesel', 'sale': 107823, 'country': 'Isereal'}, {'year': '2011', 'petroleum_product': 'Kerosene', 'sale': 0, 'country': 'Isereal'}, {'year': '2011', 'petroleum_product': 'Aviation Turbine Fuel', 'sale': 36782, 'country': 'Isereal'}, {'year': '2011', 'petroleum_product': 'Light Diesel Oil', 'sale': 187827, 'country': 'Isereal'}, {'year': '2011', 'petroleum_product': 'Furnace Oil', 'sale': 147823, 'country': 'Isereal'}, {'year': '2011', 'petroleum_product': 'LPG in MT', 'sale': 0, 'country': 'Isereal'}, {'year': '2011', 'petroleum_product': 'Mineral Turpentine Oil', 'sale': 137827, 'country': 'Isereal'}, {'year': '2011', 'petroleum_product': 'Petrol', 'sale': 13782, 'country': 'USA'}, {'year': '2011', 'petroleum_product': 'Diesel', 'sale': 10782, 'country': 'USA'}, {'year': '2011', 'petroleum_product': 'Kerosene', 'sale': 0, 'country': 'USA'}, {'year': '2011', 'petroleum_product': 'Aviation Turbine Fuel', 'sale': 78233, 'country': 'USA'}, {'year': '2011', 'petroleum_product': 'Light Diesel Oil', 'sale': 53782, 'country': 'USA'}, {'year': '2011', 'petroleum_product': 'Furnace Oil', 'sale': 45782, 'country': 'USA'}, {'year': '2011', 'petroleum_product': 'LPG in MT', 'sale': 0, 'country': 'USA'}, {'year': '2011', 'petroleum_product': 'Mineral Turpentine Oil', 'sale': 23782, 'country': 'USA'}, {'year': '2011', 'petroleum_product': 'Petrol', 'sale': 35782, 'country': 'Russia'}, {'year': '2011', 'petroleum_product': 'Diesel', 'sale': 157823, 'country': 'Russia'}, {'year': '2011', 'petroleum_product': 'Kerosene', 'sale': 457823, 'country': 'Russia'}, {'year': '2011', 'petroleum_product': 'Aviation Turbine Fuel', 'sale': 0, 'country': 'Russia'}, {'year': '2011', 'petroleum_product': 'Light Diesel Oil', 'sale': 13782, 'country': 'Russia'}, {'year': '2011', 'petroleum_product': 'Furnace Oil', 'sale': 44782, 'country': 'Russia'}, {'year': '2011', 'petroleum_product': 'LPG in MT', 'sale': 18245, 'country': 'Russia'}, {'year': '2011', 'petroleum_product': 'Mineral Turpentine Oil', 'sale': 0, 'country': 'Russia'}, {'year': '2010', 'petroleum_product': 'Petrol', 'sale': 32642, 'country': 'Saudi Arabia'}, {'year': '2010', 'petroleum_product': 'Diesel', 'sale': 23642, 'country': 'Saudi Arabia'}, {'year': '2010', 'petroleum_product': 'Kerosene', 'sale': 128642, 'country': 'Saudi Arabia'}, {'year': '2010', 'petroleum_product': 'Aviation Turbine Fuel', 'sale': 478242, 'country': 'Saudi Arabia'}, {'year': '2010', 'petroleum_product': 'Light Diesel Oil', 'sale': 178264, 'country': 'Saudi Arabia'}, {'year': '2010', 'petroleum_product': 'Furnace Oil', 'sale': 49876, 'country': 'Saudi Arabia'}, {'year': '2010', 'petroleum_product': 'LPG in MT', 'sale': 823642, 'country': 'Saudi Arabia'}, {'year': '2010', 'petroleum_product': 'Mineral Turpentine Oil', 'sale': 0, 'country': 'Saudi Arabia'}, {'year': '2010', 'petroleum_product': 'Petrol', 'sale': 537826, 'country': 'Isereal'}, {'year': '2010', 'petroleum_product': 'Diesel', 'sale': 0, 'country': 'Isereal'}, {'year': '2010', 'petroleum_product': 'Kerosene', 'sale': 32642, 'country': 'Isereal'}, {'year': '2010', 'petroleum_product': 'Aviation Turbine Fuel', 'sale': 656422, 'country': 'Isereal'}, {'year': '2010', 'petroleum_product': 'Light Diesel Oil', 'sale': 72764, 'country': 'Isereal'}, {'year': '2010', 'petroleum_product': 'Furnace Oil', 'sale': 0, 'country': 'Isereal'}, {'year': '2010', 'petroleum_product': 'LPG in MT', 'sale': 82423, 'country': 'Isereal'}, {'year': '2010', 'petroleum_product': 'Mineral Turpentine Oil', 'sale': 137852, 'country': 'Isereal'}, {'year': '2010', 'petroleum_product': 'Petrol', 'sale': 444123, 'country': 'USA'}, {'year': '2010', 'petroleum_product': 'Diesel', 'sale': 0, 'country': 'USA'}, {'year': '2010', 'petroleum_product': 'Kerosene', 'sale': 23673, 'country': 'USA'}, {'year': '2010', 'petroleum_product': 'Aviation Turbine Fuel', 'sale': 0, 'country': 'USA'}, {'year': '2010', 'petroleum_product': 'Light Diesel Oil', 'sale': 782642, 'country': 'USA'}, {'year': '2010', 'petroleum_product': 'Furnace Oil', 'sale': 452642, 'country': 'USA'}, {'year': '2010', 'petroleum_product': 'LPG in MT', 'sale': 12354, 'country': 'USA'}, {'year': '2010', 'petroleum_product': 'Mineral Turpentine Oil', 'sale': 232642, 'country': 'USA'}, {'year': '2010', 'petroleum_product': 'Petrol', 'sale': 178242, 'country': 'Russia'}, {'year': '2010', 'petroleum_product': 'Diesel', 'sale': 33642, 'country': 'Russia'}, {'year': '2010', 'petroleum_product': 'Kerosene', 'sale': 823642, 'country': 'Russia'}, {'year': '2010', 'petroleum_product': 'Aviation Turbine Fuel', 'sale': 76523, 'country': 'Russia'}, {'year': '2010', 'petroleum_product': 'Light Diesel Oil', 'sale': 132642, 'country': 'Russia'}, {'year': '2010', 'petroleum_product': 'Furnace Oil', 'sale': 782642, 'country': 'Russia'}, {'year': '2010', 'petroleum_product': 'LPG in MT', 'sale': 246424, 'country': 'Russia'}, {'year': '2010', 'petroleum_product': 'Mineral Turpentine Oil', 'sale': 123127, 'country': 'Russia'}, {'year': '2009', 'petroleum_product': 'Petrol', 'sale': 132424, 'country': 'Saudi Arabia'}, {'year': '2009', 'petroleum_product': 'Diesel', 'sale': 223424, 'country': 'Saudi Arabia'}, {'year': '2009', 'petroleum_product': 'Kerosene', 'sale': 128424, 'country': 'Saudi Arabia'}, {'year': '2009', 'petroleum_product': 'Aviation Turbine Fuel', 'sale': 43724, 'country': 'Saudi Arabia'}, {'year': '2009', 'petroleum_product': 'Light Diesel Oil', 'sale': 53123, 'country': 'Saudi Arabia'}, {'year': '2009', 'petroleum_product': 'Furnace Oil', 'sale': 455524, 'country': 'Saudi Arabia'}, {'year': '2009', 'petroleum_product': 'LPG in MT', 'sale': 20024, 'country': 'Saudi Arabia'}, {'year': '2009', 'petroleum_product': 'Mineral Turpentine Oil', 'sale': 71424, 'country': 'Saudi Arabia'}, {'year': '2009', 'petroleum_product': 'Petrol', 'sale': 57424, 'country': 'Isereal'}, {'year': '2009', 'petroleum_product': 'Diesel', 'sale': 61424, 'country': 'Isereal'}, {'year': '2009', 'petroleum_product': 'Kerosene', 'sale': 32424, 'country': 'Isereal'}, {'year': '2009', 'petroleum_product': 'Aviation Turbine Fuel', 'sale': 654242, 'country': 'Isereal'}, {'year': '2009', 'petroleum_product': 'Light Diesel Oil', 'sale': 727427, 'country': 'Isereal'}, {'year': '2009', 'petroleum_product': 'Furnace Oil', 'sale': 237812, 'country': 'Isereal'}, {'year': '2009', 'petroleum_product': 'LPG in MT', 'sale': 84243, 'country': 'Isereal'}, {'year': '2009', 'petroleum_product': 'Mineral Turpentine Oil', 'sale': 137024, 'country': 'Isereal'}, {'year': '2009', 'petroleum_product': 'Petrol', 'sale': 76123, 'country': 'USA'}, {'year': '2009', 'petroleum_product': 'Diesel', 'sale': 51008, 'country': 'USA'}, {'year': '2009', 'petroleum_product': 'Kerosene', 'sale': 32424, 'country': 'USA'}, {'year': '2009', 'petroleum_product': 'Aviation Turbine Fuel', 'sale': 214249, 'country': 'USA'}, {'year': '2009', 'petroleum_product': 'Light Diesel Oil', 'sale': 782424, 'country': 'USA'}, {'year': '2009', 'petroleum_product': 'Furnace Oil', 'sale': 465424, 'country': 'USA'}, {'year': '2009', 'petroleum_product': 'LPG in MT', 'sale': 237865, 'country': 'USA'}, {'year': '2009', 'petroleum_product': 'Mineral Turpentine Oil', 'sale': 232424, 'country': 'USA'}, {'year': '2009', 'petroleum_product': 'Petrol', 'sale': 57844, 'country': 'Russia'}, {'year': '2009', 'petroleum_product': 'Diesel', 'sale': 33424, 'country': 'Russia'}, {'year': '2009', 'petroleum_product': 'Kerosene', 'sale': 823424, 'country': 'Russia'}, {'year': '2009', 'petroleum_product': 'Aviation Turbine Fuel', 'sale': 314246, 'country': 'Russia'}, {'year': '2009', 'petroleum_product': 'Light Diesel Oil', 'sale': 402024, 'country': 'Russia'}, {'year': '2009', 'petroleum_product': 'Furnace Oil', 'sale': 282424, 'country': 'Russia'}, {'year': '2009', 'petroleum_product': 'LPG in MT', 'sale': 98123, 'country': 'Russia'}, {'year': '2009', 'petroleum_product': 'Mineral Turpentine Oil', 'sale': 63424, 'country': 'Russia'}, {'year': '2008', 'petroleum_product': 'Petrol', 'sale': 169474, 'country': 'Saudi Arabia'}, {'year': '2008', 'petroleum_product': 'Diesel', 'sale': 103724, 'country': 'Saudi Arabia'}, {'year': '2008', 'petroleum_product': 'Kerosene', 'sale': 298724, 'country': 'Saudi Arabia'}, {'year': '2008', 'petroleum_product': 'Aviation Turbine Fuel', 'sale': 871234, 'country': 'Saudi Arabia'}, {'year': '2008', 'petroleum_product': 'Light Diesel Oil', 'sale': 42356, 'country': 'Saudi Arabia'}, {'year': '2008', 'petroleum_product': 'Furnace Oil', 'sale': 129574, 'country': 'Saudi Arabia'}, {'year': '2008', 'petroleum_product': 'LPG in MT', 'sale': 19474, 'country': 'Saudi Arabia'}, {'year': '2008', 'petroleum_product': 'Mineral Turpentine Oil', 'sale': 121927, 'country': 'Saudi Arabia'}, {'year': '2008', 'petroleum_product': 'Petrol', 'sale': 31145, 'country': 'Isereal'}, {'year': '2008', 'petroleum_product': 'Diesel', 'sale': 33213, 'country': 'Isereal'}, {'year': '2008', 'petroleum_product': 'Kerosene', 'sale': 51209, 'country': 'Isereal'}, {'year': '2008', 'petroleum_product': 'Aviation Turbine Fuel', 'sale': 15922, 'country': 'Isereal'}, {'year': '2008', 'petroleum_product': 'Light Diesel Oil', 'sale': 329474, 'country': 'Isereal'}, {'year': '2008', 'petroleum_product': 'Furnace Oil', 'sale': 12355, 'country': 'Isereal'}, {'year': '2008', 'petroleum_product': 'LPG in MT', 'sale': 139872, 'country': 'Isereal'}, {'year': '2008', 'petroleum_product': 'Mineral Turpentine Oil', 'sale': 76123, 'country': 'Isereal'}, {'year': '2008', 'petroleum_product': 'Petrol', 'sale': 600189, 'country': 'USA'}, {'year': '2008', 'petroleum_product': 'Diesel', 'sale': 213927, 'country': 'USA'}, {'year': '2008', 'petroleum_product': 'Kerosene', 'sale': 119273, 'country': 'USA'}, {'year': '2008', 'petroleum_product': 'Aviation Turbine Fuel', 'sale': 123673, 'country': 'USA'}, {'year': '2008', 'petroleum_product': 'Light Diesel Oil', 'sale': 159474, 'country': 'USA'}, {'year': '2008', 'petroleum_product': 'Furnace Oil', 'sale': 342927, 'country': 'USA'}, {'year': '2008', 'petroleum_product': 'LPG in MT', 'sale': 125270, 'country': 'USA'}, {'year': '2008', 'petroleum_product': 'Mineral Turpentine Oil', 'sale': 130474, 'country': 'USA'}, {'year': '2008', 'petroleum_product': 'Petrol', 'sale': 12375, 'country': 'Russia'}, {'year': '2008', 'petroleum_product': 'Diesel', 'sale': 243927, 'country': 'Russia'}, {'year': '2008', 'petroleum_product': 'Kerosene', 'sale': 332944, 'country': 'Russia'}, {'year': '2008', 'petroleum_product': 'Aviation Turbine Fuel', 'sale': 49087, 'country': 'Russia'}, {'year': '2008', 'petroleum_product': 'Light Diesel Oil', 'sale': 139474, 'country': 'Russia'}, {'year': '2008', 'petroleum_product': 'Furnace Oil', 'sale': 189474, 'country': 'Russia'}, {'year': '2008', 'petroleum_product': 'LPG in MT', 'sale': 17809, 'country': 'Russia'}, {'year': '2008', 'petroleum_product': 'Mineral Turpentine Oil', 'sale': 129474, 'country': 'Russia'}, {'year': '2007', 'petroleum_product': 'Petrol', 'sale': 94732, 'country': 'Saudi Arabia'}, {'year': '2007', 'petroleum_product': 'Diesel', 'sale': 27232, 'country': 'Saudi Arabia'}, {'year': '2007', 'petroleum_product': 'Kerosene', 'sale': 987232, 'country': 'Saudi Arabia'}, {'year': '2007', 'petroleum_product': 'Aviation Turbine Fuel', 'sale': 123356, 'country': 'Saudi Arabia'}, {'year': '2007', 'petroleum_product': 'Light Diesel Oil', 'sale': 0, 'country': 'Saudi Arabia'}, {'year': '2007', 'petroleum_product': 'Furnace Oil', 'sale': 95732, 'country': 'Saudi Arabia'}, {'year': '2007', 'petroleum_product': 'LPG in MT', 'sale': 84732, 'country': 'Saudi Arabia'}, {'year': '2007', 'petroleum_product': 'Mineral Turpentine Oil', 'sale': 0, 'country': 'Saudi Arabia'}, {'year': '2007', 'petroleum_product': 'Petrol', 'sale': 43122, 'country': 'Isereal'}, {'year': '2007', 'petroleum_product': 'Diesel', 'sale': 12132, 'country': 'Isereal'}, {'year': '2007', 'petroleum_product': 'Kerosene', 'sale': 0, 'country': 'Isereal'}, {'year': '2007', 'petroleum_product': 'Aviation Turbine Fuel', 'sale': 59232, 'country': 'Isereal'}, {'year': '2007', 'petroleum_product': 'Light Diesel Oil', 'sale': 29472, 'country': 'Isereal'}, {'year': '2007', 'petroleum_product': 'Furnace Oil', 'sale': 43187, 'country': 'Isereal'}, {'year': '2007', 'petroleum_product': 'LPG in MT', 'sale': 0, 'country': 'Isereal'}, {'year': '2007', 'petroleum_product': 'Mineral Turpentine Oil', 'sale': 3612, 'country': 'Isereal'}, {'year': '2007', 'petroleum_product': 'Petrol', 'sale': 0, 'country': 'USA'}, {'year': '2007', 'petroleum_product': 'Diesel', 'sale': 13922, 'country': 'USA'}, {'year': '2007', 'petroleum_product': 'Kerosene', 'sale': 92701, 'country': 'USA'}, {'year': '2007', 'petroleum_product': 'Aviation Turbine Fuel', 'sale': 0, 'country': 'USA'}, {'year': '2007', 'petroleum_product': 'Light Diesel Oil', 'sale': 294732, 'country': 'USA'}, {'year': '2007', 'petroleum_product': 'Furnace Oil', 'sale': 129232, 'country': 'USA'}, {'year': '2007', 'petroleum_product': 'LPG in MT', 'sale': 527032, 'country': 'USA'}, {'year': '2007', 'petroleum_product': 'Mineral Turpentine Oil', 'sale': 0, 'country': 'USA'}, {'year': '2007', 'petroleum_product': 'Petrol', 'sale': 22232, 'country': 'Russia'}, {'year': '2007', 'petroleum_product': 'Diesel', 'sale': 9232, 'country': 'Russia'}, {'year': '2007', 'petroleum_product': 'Kerosene', 'sale': 9432, 'country': 'Russia'}, {'year': '2007', 'petroleum_product': 'Aviation Turbine Fuel', 'sale': 0, 'country': 'Russia'}, {'year': '2007', 'petroleum_product': 'Light Diesel Oil', 'sale': 294732, 'country': 'Russia'}, {'year': '2007', 'petroleum_product': 'Furnace Oil', 'sale': 194732, 'country': 'Russia'}, {'year': '2007', 'petroleum_product': 'LPG in MT', 'sale': 29473, 'country': 'Russia'}, {'year': '2007', 'petroleum_product': 'Mineral Turpentine Oil', 'sale': 0, 'country': 'Russia'}]\n"
     ]
    }
   ],
   "source": [
    "print(raw_dict)"
   ]
  },
  {
   "cell_type": "code",
   "execution_count": null,
   "metadata": {},
   "outputs": [],
   "source": []
  }
 ],
 "metadata": {
  "hide_input": false,
  "kernelspec": {
   "display_name": "Python 3",
   "language": "python",
   "name": "python3"
  },
  "language_info": {
   "codemirror_mode": {
    "name": "ipython",
    "version": 3
   },
   "file_extension": ".py",
   "mimetype": "text/x-python",
   "name": "python",
   "nbconvert_exporter": "python",
   "pygments_lexer": "ipython3",
   "version": "3.8.10"
  },
  "toc": {
   "base_numbering": 1,
   "nav_menu": {},
   "number_sections": true,
   "sideBar": true,
   "skip_h1_title": false,
   "title_cell": "Table of Contents",
   "title_sidebar": "Contents",
   "toc_cell": false,
   "toc_position": {},
   "toc_section_display": true,
   "toc_window_display": false
  },
  "varInspector": {
   "cols": {
    "lenName": 16,
    "lenType": 16,
    "lenVar": 40
   },
   "kernels_config": {
    "python": {
     "delete_cmd_postfix": "",
     "delete_cmd_prefix": "del ",
     "library": "var_list.py",
     "varRefreshCmd": "print(var_dic_list())"
    },
    "r": {
     "delete_cmd_postfix": ") ",
     "delete_cmd_prefix": "rm(",
     "library": "var_list.r",
     "varRefreshCmd": "cat(var_dic_list()) "
    }
   },
   "types_to_exclude": [
    "module",
    "function",
    "builtin_function_or_method",
    "instance",
    "_Feature"
   ],
   "window_display": false
  }
 },
 "nbformat": 4,
 "nbformat_minor": 4
}
